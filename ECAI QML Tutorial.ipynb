{
 "cells": [
  {
   "cell_type": "markdown",
   "id": "da61eb49-44eb-4c0d-a0a5-f73d03e34b45",
   "metadata": {
    "editable": true,
    "slideshow": {
     "slide_type": "slide"
    },
    "tags": []
   },
   "source": [
    "# ECAI Tutorial 17: A Gentle intro to Quantum Machine Learning\n",
    "\n",
    "Dr. Steve Campbell and Dr. Simon Caton \n",
    "\n",
    "UCD Centre for Quantum Engineering, Science, and Technology (C-QuEST) | www.ucd.ie/quantum\n",
    "\n",
    "steve.campbell@ucd.ie \\& simon.caton@ucd.ie"
   ]
  },
  {
   "cell_type": "markdown",
   "id": "84bddfbb-1ed8-4f57-857b-c9a5f90dcbc7",
   "metadata": {
    "editable": true,
    "slideshow": {
     "slide_type": "slide"
    },
    "tags": []
   },
   "source": [
    "## Set up and structure\n",
    "This tutoral runs in a clean virtual environment with only scikit-learn, pandas, jupyter and notebook installed. Use:\n",
    "```\n",
    "python3 -m venv ECAI\n",
    "source ECAI/bin/activate\n",
    "pip install scikit-learn pandas jupyter notebook\n",
    "```\n",
    "\n",
    "The structure of this tutorial is as follows:\n",
    "* Set up: adding libraries directly into the notebook (we do this because some of the quantum libraries can conflict and then mess up our virtual environment)\n",
    "* Basic data prep (we kick out some features that will cause us issues in the QML part)\n",
    "* Classical ML baseline models (for comparison: crude rule-based ``classifer'', knn, and random forest)\n",
    "* Quantum Models:\n",
    "    * Quantum Version of our rule-based classifier (as a baseline)\n",
    "    * Vanilla Variational QML model (using a built-in ansatz + all default parameters)\n",
    "    * Going beyond basics and default parameters"
   ]
  },
  {
   "cell_type": "code",
   "execution_count": null,
   "id": "fc3024d8-23b6-4e05-aed3-44bd2ab8a1ca",
   "metadata": {
    "editable": true,
    "slideshow": {
     "slide_type": "skip"
    },
    "tags": []
   },
   "outputs": [],
   "source": [
    "%pip install qiskit\n",
    "%pip install \"qiskit[visualization]\""
   ]
  },
  {
   "cell_type": "code",
   "execution_count": 90,
   "id": "674b0706-9770-42b1-a1bf-86c36cc477ce",
   "metadata": {},
   "outputs": [
    {
     "name": "stdout",
     "output_type": "stream",
     "text": [
      "1.4.3\n"
     ]
    }
   ],
   "source": [
    "from qiskit import __version__\n",
    "print(__version__)"
   ]
  },
  {
   "cell_type": "code",
   "execution_count": 93,
   "id": "ecf6dcc1-8c73-44fe-b9bb-9794959744f0",
   "metadata": {
    "editable": true,
    "slideshow": {
     "slide_type": "subslide"
    },
    "tags": []
   },
   "outputs": [],
   "source": [
    "# data analysis and wrangling\n",
    "import pandas as pd\n",
    "import numpy as np\n",
    "import random as rnd\n",
    "import time\n",
    "\n",
    "# visualisation\n",
    "from matplotlib import pyplot as plt\n",
    "from IPython.display import clear_output\n",
    "\n",
    "# classical machine learning\n",
    "from sklearn.ensemble import RandomForestClassifier\n",
    "from sklearn.neighbors import KNeighborsClassifier\n",
    "from sklearn.metrics import accuracy_score\n",
    "from sklearn.model_selection import train_test_split\n",
    "from sklearn.preprocessing import MinMaxScaler\n",
    "\n",
    "# QML \n",
    "from qiskit import QuantumCircuit, transpile\n",
    "from qiskit.quantum_info import Statevector\n",
    "from qiskit.primitives import StatevectorSampler, Sampler\n",
    "from qiskit_machine_learning.algorithms.classifiers import VQC\n",
    "from qiskit.circuit.library import ZZFeatureMap, RealAmplitudes\n",
    "from qiskit_machine_learning.utils import algorithm_globals\n",
    "from qiskit_machine_learning.optimizers import COBYLA, SPSA\n",
    "from qiskit.circuit import Parameter, ParameterVector\n",
    "from qiskit.primitives import BackendSampler"
   ]
  },
  {
   "cell_type": "markdown",
   "id": "8e418664-3ab8-44a3-aa48-355a004fd288",
   "metadata": {
    "editable": true,
    "slideshow": {
     "slide_type": "slide"
    },
    "tags": []
   },
   "source": [
    "## Data Prep and Loading\n",
    "We use the Titanic dataset from Kaggle, available [here](https://www.kaggle.com/datasets/yasserh/titanic-dataset?resource=download).\n",
    "\n",
    "After this, we're just going to handle what would become problematic features and kick some others out. \n",
    "\n",
    "Problematic here means anything the inflats the feature space. For example, a categorical variable with many levels will need to be one-hot encoded. This in turn increases our demands on the quantum circuit, by:\n",
    "* requiring more qubits (to load data onto),\n",
    "* increasing the depth of our circuit (because we have more features to load per qubit), or\n",
    "* both of these\n",
    "\n",
    "This can be problematic for a few reasons, but to keep this simple(r), we'll mention only the following:\n",
    "* bigger circuits are more expensive to train (in terms of time, and memory) if classically simulating the circuit\n",
    "* deeper circuits can be more prone to the barren plateau problem (having a flat gradient) see: https://www.nature.com/articles/s41467-018-07090-4\n",
    "* standard machine learning practice would normally suggest we want to encourage simpler (i.e. smaller) models.\n",
    "\n",
    "With this in mind, our data prep will entail the following steps:\n",
    "1. replacing age with a binary variable that captures whether the passenger is a minor, i.e. below 18\n",
    "2. use the family features to create a binary feature capturing whether they are travelling alone, or not\n",
    "3. refactoring gender from into a binary variable representing whether the passenger is female, or not\n",
    "4. dropping features that are not likely to be valuable: ticket number, passenger ID, name, cabin no., where they embarked, and any data correlated with the features we create. Arguably some of these are actually useful, but we want to minimise the feature space to keep the training more tractable."
   ]
  },
  {
   "cell_type": "code",
   "execution_count": 4,
   "id": "21ab969c-53a5-4956-af48-f3a3d1d707c9",
   "metadata": {
    "editable": true,
    "slideshow": {
     "slide_type": "subslide"
    },
    "tags": []
   },
   "outputs": [
    {
     "data": {
      "text/html": [
       "<div>\n",
       "<style scoped>\n",
       "    .dataframe tbody tr th:only-of-type {\n",
       "        vertical-align: middle;\n",
       "    }\n",
       "\n",
       "    .dataframe tbody tr th {\n",
       "        vertical-align: top;\n",
       "    }\n",
       "\n",
       "    .dataframe thead th {\n",
       "        text-align: right;\n",
       "    }\n",
       "</style>\n",
       "<table border=\"1\" class=\"dataframe\">\n",
       "  <thead>\n",
       "    <tr style=\"text-align: right;\">\n",
       "      <th></th>\n",
       "      <th>Y</th>\n",
       "      <th>Pclass</th>\n",
       "      <th>Below18</th>\n",
       "      <th>IsAlone</th>\n",
       "      <th>Female</th>\n",
       "      <th>scaled_fare</th>\n",
       "    </tr>\n",
       "  </thead>\n",
       "  <tbody>\n",
       "    <tr>\n",
       "      <th>0</th>\n",
       "      <td>False</td>\n",
       "      <td>3</td>\n",
       "      <td>False</td>\n",
       "      <td>False</td>\n",
       "      <td>False</td>\n",
       "      <td>0.014151</td>\n",
       "    </tr>\n",
       "    <tr>\n",
       "      <th>1</th>\n",
       "      <td>True</td>\n",
       "      <td>1</td>\n",
       "      <td>False</td>\n",
       "      <td>False</td>\n",
       "      <td>True</td>\n",
       "      <td>0.139136</td>\n",
       "    </tr>\n",
       "    <tr>\n",
       "      <th>2</th>\n",
       "      <td>True</td>\n",
       "      <td>3</td>\n",
       "      <td>False</td>\n",
       "      <td>True</td>\n",
       "      <td>True</td>\n",
       "      <td>0.015469</td>\n",
       "    </tr>\n",
       "    <tr>\n",
       "      <th>3</th>\n",
       "      <td>True</td>\n",
       "      <td>1</td>\n",
       "      <td>False</td>\n",
       "      <td>False</td>\n",
       "      <td>True</td>\n",
       "      <td>0.103644</td>\n",
       "    </tr>\n",
       "    <tr>\n",
       "      <th>4</th>\n",
       "      <td>False</td>\n",
       "      <td>3</td>\n",
       "      <td>False</td>\n",
       "      <td>True</td>\n",
       "      <td>False</td>\n",
       "      <td>0.015713</td>\n",
       "    </tr>\n",
       "  </tbody>\n",
       "</table>\n",
       "</div>"
      ],
      "text/plain": [
       "       Y  Pclass  Below18  IsAlone  Female  scaled_fare\n",
       "0  False       3    False    False   False     0.014151\n",
       "1   True       1    False    False    True     0.139136\n",
       "2   True       3    False     True    True     0.015469\n",
       "3   True       1    False    False    True     0.103644\n",
       "4  False       3    False     True   False     0.015713"
      ]
     },
     "execution_count": 4,
     "metadata": {},
     "output_type": "execute_result"
    }
   ],
   "source": [
    "titanic = pd.read_csv('./Titanic-Dataset.csv')\n",
    "titanic['Below18'] = (titanic.Age<18)\n",
    "\n",
    "titanic['FamilySize'] = titanic['SibSp'] + titanic['Parch'] + 1\n",
    "titanic['IsAlone'] = False\n",
    "titanic.loc[titanic['FamilySize'] == 1, 'IsAlone'] = True\n",
    "titanic['Female'] = titanic.Sex == 'female'\n",
    "\n",
    "titanic['Y'] = titanic.Survived == 1\n",
    "\n",
    "scaler = MinMaxScaler()\n",
    "titanic[\"scaled_fare\"] = scaler.fit_transform(titanic[[\"Fare\"]])\n",
    "\n",
    "titanic = titanic.drop(['Ticket', 'Cabin', 'Name', 'PassengerId', 'Age', 'Parch', 'SibSp', 'FamilySize', 'Sex', 'Embarked', 'Survived', 'Fare'], axis=1)\n",
    "\n",
    "titanic = titanic[['Y', 'Pclass', 'Below18', 'IsAlone', 'Female', 'scaled_fare']]\n",
    "\n",
    "titanic.head()"
   ]
  },
  {
   "cell_type": "markdown",
   "id": "2a84966d-52ba-423c-a9b2-cd6099533503",
   "metadata": {
    "editable": true,
    "slideshow": {
     "slide_type": "slide"
    },
    "tags": []
   },
   "source": [
    "## Sampling \n",
    "\n",
    "We're going to keep this simple too, and use a basic 80/20 holdout sampled without replacement."
   ]
  },
  {
   "cell_type": "code",
   "execution_count": 5,
   "id": "13cd4bc8-3256-4fd7-91a9-c2cc4ad71ba7",
   "metadata": {
    "editable": true,
    "slideshow": {
     "slide_type": ""
    },
    "tags": []
   },
   "outputs": [],
   "source": [
    "train_df, test_df = train_test_split(titanic, test_size=0.2, random_state=42)\n",
    "\n",
    "X_train = train_df.drop(\"Y\", axis=1)\n",
    "Y_train = train_df[\"Y\"]\n",
    "\n",
    "X_test = test_df.drop(\"Y\", axis=1)\n",
    "Y_test = test_df[\"Y\"]"
   ]
  },
  {
   "cell_type": "markdown",
   "id": "a1c29532-331e-4075-9866-8e9aeac35f46",
   "metadata": {
    "editable": true,
    "slideshow": {
     "slide_type": "slide"
    },
    "tags": []
   },
   "source": [
    "# Baseline Classical ML Models\n",
    "\n",
    "We're going to use 3 baseline models. None are particularly interesting or complex, and we won't place too much focus on them, but they are necessary to illustrate basic model quality when we contrast the QML approaches later.\n",
    "\n",
    "1. A simple rule based model (not a classification model, but will serve as a useful classical counterpart for our first quantum approach)\n",
    "2. KNN -- a nice simple low effort model\n",
    "3. Random Forest -- the goto model of choice for many based on [this paper](https://www.jmlr.org/papers/volume15/delgado14a/delgado14a.pdf)\n"
   ]
  },
  {
   "cell_type": "markdown",
   "id": "01ec3265-47be-48d7-978e-1cec1a33da1c",
   "metadata": {
    "editable": true,
    "slideshow": {
     "slide_type": "subslide"
    },
    "tags": []
   },
   "source": [
    "## Hard-coded Rule-Based Model\n",
    "For our simple baseline, we're going to encode the following seafarers adage: **Women and Children First**, i.e. that if the passenger is either female, or under 18, we emit a positive class label. \n",
    "\n",
    "While from a classical machine learning perspective, this is 101 entry level stuff, it's useful to illustrate how we can do the same with a basic quantum program.\n",
    "\n",
    "We should see a performance (depending exactly on the sampling, of around 75-78% accuracy."
   ]
  },
  {
   "cell_type": "code",
   "execution_count": 6,
   "id": "2839f002-7153-449c-afa9-8b3591c624eb",
   "metadata": {
    "editable": true,
    "slideshow": {
     "slide_type": ""
    },
    "tags": []
   },
   "outputs": [],
   "source": [
    "def basicRuleClassifier(x):\n",
    "    return x['Female'] or x['Below18']\n",
    "\n",
    "def predict(df):\n",
    "    predictions = [False] * df.shape[0]\n",
    "    i = 0\n",
    "    for _, row in df.iterrows():\n",
    "        predictions[i] = basicRuleClassifier(row)\n",
    "        i += 1\n",
    "\n",
    "    return predictions\n",
    "    "
   ]
  },
  {
   "cell_type": "code",
   "execution_count": 7,
   "id": "525a3474-40dd-4fce-aaaf-76012675f9ab",
   "metadata": {
    "editable": true,
    "slideshow": {
     "slide_type": "fragment"
    },
    "tags": []
   },
   "outputs": [
    {
     "data": {
      "text/plain": [
       "75.98"
      ]
     },
     "execution_count": 7,
     "metadata": {},
     "output_type": "execute_result"
    }
   ],
   "source": [
    "X_test.head()\n",
    "Y_pred = predict(X_test)\n",
    "acc_rules = round(accuracy_score(Y_test, Y_pred) * 100, 2)\n",
    "acc_rules"
   ]
  },
  {
   "cell_type": "markdown",
   "id": "ff4c7f81-f824-4e64-84a8-f73531f9e64f",
   "metadata": {
    "editable": true,
    "slideshow": {
     "slide_type": "subslide"
    },
    "tags": []
   },
   "source": [
    "## Basic ML Models: KNN and RF\n",
    "\n",
    "We see a bump in performance (not surprisingly) using KNN and RF and will keep these as our main baseline models. "
   ]
  },
  {
   "cell_type": "code",
   "execution_count": 8,
   "id": "d8bf02c8-7b95-4d7b-9598-4a22015f6a6f",
   "metadata": {
    "editable": true,
    "slideshow": {
     "slide_type": "fragment"
    },
    "tags": []
   },
   "outputs": [
    {
     "data": {
      "text/plain": [
       "87.22"
      ]
     },
     "execution_count": 8,
     "metadata": {},
     "output_type": "execute_result"
    }
   ],
   "source": [
    "knn = KNeighborsClassifier(n_neighbors = 3)\n",
    "knn.fit(X_train, Y_train)\n",
    "Y_pred = knn.predict(X_test)\n",
    "acc_knn = round(knn.score(X_train, Y_train) * 100, 2)\n",
    "acc_knn"
   ]
  },
  {
   "cell_type": "code",
   "execution_count": 9,
   "id": "855e7853-dbf6-4b26-ae29-ed50cb8986b1",
   "metadata": {
    "editable": true,
    "slideshow": {
     "slide_type": "fragment"
    },
    "tags": []
   },
   "outputs": [
    {
     "data": {
      "text/plain": [
       "92.84"
      ]
     },
     "execution_count": 9,
     "metadata": {},
     "output_type": "execute_result"
    }
   ],
   "source": [
    "random_forest = RandomForestClassifier(n_estimators=100)\n",
    "random_forest.fit(X_train, Y_train)\n",
    "Y_pred = random_forest.predict(X_test)\n",
    "random_forest.score(X_train, Y_train)\n",
    "acc_random_forest = round(random_forest.score(X_train, Y_train) * 100, 2)\n",
    "acc_random_forest"
   ]
  },
  {
   "cell_type": "markdown",
   "id": "21bc19e1-9dbd-4c66-8aa0-84432ba123c6",
   "metadata": {
    "editable": true,
    "slideshow": {
     "slide_type": "slide"
    },
    "tags": []
   },
   "source": [
    "# Quantum Models\n",
    "\n",
    "We'll start simple: with a quantum version of our rule-based model, then work up to some QML models that require training.\n",
    "\n",
    "Before we start, a small reality check. Expected performance (based on findings from: https://arxiv.org/pdf/2509.00916) is around 80% accuracy."
   ]
  },
  {
   "cell_type": "markdown",
   "id": "34ba1894-02ea-4790-8f5c-965e61b8e0ca",
   "metadata": {
    "editable": true,
    "slideshow": {
     "slide_type": ""
    },
    "tags": []
   },
   "source": [
    "## Rule-based Model\n",
    "\n",
    "First, we'll start with a quantum varient of our rule-based model. For this we need to focus on 2 components:\n",
    "1. A state preparation task: that transforms our Female and Below18 features into an appropriate state\n",
    "2. A ``processing'' circuit that essentially represents our **if** statement  "
   ]
  },
  {
   "cell_type": "markdown",
   "id": "b6546b49-6a6b-442f-b4c5-7ba5ed8c048a",
   "metadata": {
    "editable": true,
    "slideshow": {
     "slide_type": ""
    },
    "tags": []
   },
   "source": [
    "### State preparation\n",
    "\n",
    "We make a function that will return a (sub)circuit to do state preparation (2 binary variables) for **Female** and **Below18**. \n",
    "\n",
    "We can put these on $q_0$ and $q_1$, and use an $X$ gate to transfer the qubit from the ground state, i.e. $\\ket{0}$, to the excited state, i.e. $\\ket{1}$, if the binary variable is *true*, and otherwise we do nothing. Here, doing nothing means adding an identify gate, but we don't have to worry about this, Qiskit does it for us."
   ]
  },
  {
   "cell_type": "code",
   "execution_count": 10,
   "id": "9e52a3ee-f4d2-4e6c-99d7-a74ef75718d9",
   "metadata": {
    "editable": true,
    "slideshow": {
     "slide_type": ""
    },
    "tags": []
   },
   "outputs": [],
   "source": [
    "def state_prep(Female, Below18):\n",
    "    qc = QuantumCircuit(3,1)\n",
    "    if Female:\n",
    "        qc.x(0)\n",
    "    if Below18:\n",
    "        qc.x(1)\n",
    "\n",
    "    return qc"
   ]
  },
  {
   "cell_type": "markdown",
   "id": "406b96ef-a1d3-4f54-aaa1-360d8e7fce89",
   "metadata": {
    "editable": true,
    "slideshow": {
     "slide_type": ""
    },
    "tags": []
   },
   "source": [
    "### Processing Circuit\n",
    "\n",
    "Next, we introduce a second function that appends to our state prep (sub)circuit the functionality to handle the rules noted above. Essentially we concatenate the two circuits."
   ]
  },
  {
   "cell_type": "code",
   "execution_count": 11,
   "id": "f95a82b8-a734-4cd1-9623-3fe7b3dccbb1",
   "metadata": {
    "editable": true,
    "slideshow": {
     "slide_type": ""
    },
    "tags": []
   },
   "outputs": [],
   "source": [
    "def predictor(qc):\n",
    "    qc.x(0)\n",
    "    qc.x(1)\n",
    "    qc.x(2)\n",
    "    qc.mcx([0,1],2)\n",
    "\n",
    "    qc.measure(2, 0)\n",
    "\n",
    "    return qc"
   ]
  },
  {
   "cell_type": "markdown",
   "id": "143084b4-2971-451a-80c7-00a5b9aa8b92",
   "metadata": {
    "editable": true,
    "slideshow": {
     "slide_type": ""
    },
    "tags": []
   },
   "source": [
    "### Sample output\n",
    "\n",
    "For arbitrary input, out circuit would look as follows (you can change this for different inputs to see what happens). The possible combinations are:\n",
    "\n",
    "| Female | Below18 | Interpretation | Expected Result |\n",
    "| -------- | ------- | -------- | ------- |\n",
    "| False | False | Male Adult | -ve |\n",
    "| False | True | Male Minor | +ve |\n",
    "| True | False | Female Adult | +ve |\n",
    "| True | True | Female Minor | +ve |"
   ]
  },
  {
   "cell_type": "code",
   "execution_count": 12,
   "id": "45fa7d2f-5fd7-472f-bec8-d3d96d990d2b",
   "metadata": {
    "editable": true,
    "slideshow": {
     "slide_type": ""
    },
    "tags": []
   },
   "outputs": [
    {
     "data": {
      "image/png": "[encoded data removed]",
      "text/plain": [
       "<Figure size 454.719x367.889 with 1 Axes>"
      ]
     },
     "execution_count": 12,
     "metadata": {},
     "output_type": "execute_result"
    }
   ],
   "source": [
    "qc = state_prep(True, True)\n",
    "qc = predictor(qc)\n",
    "qc.draw(\"mpl\")"
   ]
  },
  {
   "cell_type": "markdown",
   "id": "f1189b9d-003a-4fd0-9813-370ab7c6da22",
   "metadata": {
    "editable": true,
    "slideshow": {
     "slide_type": ""
    },
    "tags": []
   },
   "source": [
    "That first block (or layer) of $X$ gates is capturing the default case: the $CCX$ gate will emit $\\ket{1}$ on qubit $q_3$ as all qubits are currently in the $\\ket{1}$ state. Per our state preparation function, if the passenger is either male or an adult, we add an $X$ gate, returning the state of that qubit to $\\ket{0}$ and thus causing the $CCX$ gate to emit $\\ket{0}$. We map $\\ket{0}$ to the negative outcome (did not survive), and $\\ket{1}$ to the positive outcome (did survive).\n",
    "\n",
    "If we execute this circuit we get the following:"
   ]
  },
  {
   "cell_type": "code",
   "execution_count": 13,
   "id": "5a6cc46a-3c6b-40fc-85c5-c0e0ae446b3a",
   "metadata": {
    "editable": true,
    "slideshow": {
     "slide_type": ""
    },
    "tags": []
   },
   "outputs": [
    {
     "data": {
      "text/plain": [
       "{'1': 1}"
      ]
     },
     "execution_count": 13,
     "metadata": {},
     "output_type": "execute_result"
    }
   ],
   "source": [
    "sampler = StatevectorSampler()\n",
    "job = sampler.run([qc], shots=1)\n",
    "\n",
    "#note we didn't explicitly add a measurement, so the default c is used\n",
    "dist = job.result()[0].data[\"c\"].get_counts()\n",
    "dist"
   ]
  },
  {
   "cell_type": "markdown",
   "id": "5d5cfc8e-b83c-4ca7-a4e7-69139d9c08cf",
   "metadata": {
    "editable": true,
    "slideshow": {
     "slide_type": ""
    },
    "tags": []
   },
   "source": [
    "We now pass the real test data, and then execute our circuit $k$ times (called shots) to produce a probability distribution over the output, and apply a threshold rule (similar to logistic regression) to derive the prediction.\n",
    "\n",
    "We'll need to switch between different ways to execute our quantum program, so for now, we'll pull the sampler outside of our function."
   ]
  },
  {
   "cell_type": "code",
   "execution_count": 14,
   "id": "f960f083-bf20-40b3-8dbc-7a838625caf0",
   "metadata": {
    "editable": true,
    "slideshow": {
     "slide_type": ""
    },
    "tags": []
   },
   "outputs": [],
   "source": [
    "backend = StatevectorSampler()"
   ]
  },
  {
   "cell_type": "code",
   "execution_count": 15,
   "id": "92e859f5-bb7f-496d-852b-9e37f263e59a",
   "metadata": {
    "editable": true,
    "slideshow": {
     "slide_type": ""
    },
    "tags": []
   },
   "outputs": [],
   "source": [
    "def quantumRuleModel(df):\n",
    "    \n",
    "    q_predictions = [False] * df.shape[0]\n",
    "    i = 0\n",
    "    for _, row in df.iterrows():\n",
    "        q_predictions[i] = basicQRuleClassifier(row)\n",
    "        i += 1\n",
    "\n",
    "    return q_predictions\n",
    "\n",
    "def basicQRuleClassifier(x):\n",
    "    qc = state_prep(x['Female'], x['Below18'])\n",
    "    qc = predictor(qc)\n",
    "    job = backend.run([qc], shots=1024)\n",
    "    dist = job.result()[0].data[\"c\"].get_counts()\n",
    "    if '0' in dist and dist['0'] >= 512:\n",
    "        return False\n",
    "    else:\n",
    "        return True"
   ]
  },
  {
   "cell_type": "markdown",
   "id": "f1fd3b1d-f193-4cac-88ba-4e1fc14e5b10",
   "metadata": {
    "editable": true,
    "slideshow": {
     "slide_type": ""
    },
    "tags": []
   },
   "source": [
    "Now we test, and see our performance is the same (as expected) as the classical rule-based model."
   ]
  },
  {
   "cell_type": "code",
   "execution_count": 16,
   "id": "030fdf23-fdcd-4d77-ac22-5b0c61bb0255",
   "metadata": {
    "editable": true,
    "slideshow": {
     "slide_type": ""
    },
    "tags": []
   },
   "outputs": [
    {
     "data": {
      "text/plain": [
       "75.98"
      ]
     },
     "execution_count": 16,
     "metadata": {},
     "output_type": "execute_result"
    }
   ],
   "source": [
    "Y_pred = quantumRuleModel(X_test)\n",
    "acc_rules = round(accuracy_score(Y_test, Y_pred) * 100, 2)\n",
    "acc_rules"
   ]
  },
  {
   "cell_type": "markdown",
   "id": "0502d7ad-90ef-4607-95f4-91a4fdcdf838",
   "metadata": {
    "editable": true,
    "slideshow": {
     "slide_type": ""
    },
    "tags": []
   },
   "source": [
    "## Inferencing via the Cloud\n",
    "\n",
    "We need to be a little careful here, as things can get expensive quite quickly. You'll also need to insert your own API keys, but for illustrative purposes, let's consider the simple case of each possible permutation:"
   ]
  },
  {
   "cell_type": "code",
   "execution_count": 17,
   "id": "6f14bea0-339d-48e9-ac99-d8fa44a4d173",
   "metadata": {
    "editable": true,
    "slideshow": {
     "slide_type": ""
    },
    "tags": []
   },
   "outputs": [
    {
     "data": {
      "text/html": [
       "<div>\n",
       "<style scoped>\n",
       "    .dataframe tbody tr th:only-of-type {\n",
       "        vertical-align: middle;\n",
       "    }\n",
       "\n",
       "    .dataframe tbody tr th {\n",
       "        vertical-align: top;\n",
       "    }\n",
       "\n",
       "    .dataframe thead th {\n",
       "        text-align: right;\n",
       "    }\n",
       "</style>\n",
       "<table border=\"1\" class=\"dataframe\">\n",
       "  <thead>\n",
       "    <tr style=\"text-align: right;\">\n",
       "      <th></th>\n",
       "      <th>Female</th>\n",
       "      <th>Below18</th>\n",
       "    </tr>\n",
       "  </thead>\n",
       "  <tbody>\n",
       "    <tr>\n",
       "      <th>0</th>\n",
       "      <td>False</td>\n",
       "      <td>False</td>\n",
       "    </tr>\n",
       "    <tr>\n",
       "      <th>1</th>\n",
       "      <td>False</td>\n",
       "      <td>True</td>\n",
       "    </tr>\n",
       "    <tr>\n",
       "      <th>2</th>\n",
       "      <td>True</td>\n",
       "      <td>False</td>\n",
       "    </tr>\n",
       "    <tr>\n",
       "      <th>3</th>\n",
       "      <td>True</td>\n",
       "      <td>True</td>\n",
       "    </tr>\n",
       "  </tbody>\n",
       "</table>\n",
       "</div>"
      ],
      "text/plain": [
       "   Female  Below18\n",
       "0   False    False\n",
       "1   False     True\n",
       "2    True    False\n",
       "3    True     True"
      ]
     },
     "execution_count": 17,
     "metadata": {},
     "output_type": "execute_result"
    }
   ],
   "source": [
    "df = pd.DataFrame({\n",
    "    \"Female\": [False, False, True, True],\n",
    "    \"Below18\": [False, True, False, True]\n",
    "})\n",
    "\n",
    "df.head()"
   ]
  },
  {
   "cell_type": "code",
   "execution_count": null,
   "id": "bd7c6d4a-fc13-45d6-bac8-4fbd51aa5aa1",
   "metadata": {},
   "outputs": [],
   "source": [
    "from azure.quantum import Workspace\n",
    "from azure.quantum.qiskit import AzureQuantumProvider\n",
    "\n",
    "workspace = Workspace ( \n",
    "    resource_id = \"\", # Add your resource_id \n",
    "    location = \"\"  # Add your workspace location (for example, \"westus\") \n",
    ")\n",
    "\n",
    "provider = AzureQuantumProvider(workspace)\n",
    "\n",
    "print(\"This workspace's targets:\")\n",
    "for backend in provider.backends():\n",
    "    print(\"- \" + backend.name())"
   ]
  },
  {
   "cell_type": "markdown",
   "id": "767dbf1b-399f-4909-ba7a-4bc1eb1b3956",
   "metadata": {
    "editable": true,
    "slideshow": {
     "slide_type": ""
    },
    "tags": []
   },
   "source": [
    "If we now change our backend (this time to a cloud accessible simulator) we can deploy our model on the Azure Quantum Cloud. Note that all we would need to do to deploy to a real device is change how we define our backend. \n",
    "\n",
    "We also need to change (subtly) how we access our results data, so redefine our basic classification function."
   ]
  },
  {
   "cell_type": "code",
   "execution_count": 19,
   "id": "33d8a930-9f18-4b75-afa5-4816c83fce7d",
   "metadata": {
    "editable": true,
    "slideshow": {
     "slide_type": ""
    },
    "tags": []
   },
   "outputs": [],
   "source": [
    "backend = provider.get_backend(\"rigetti.sim.qvm\")\n",
    "\n",
    "def basicQRuleClassifier(x):\n",
    "    qc = state_prep(x['Female'], x['Below18'])\n",
    "    qc = predictor(qc)\n",
    "    job = backend.run([qc], shots=1024)\n",
    "    dist = job.result().get_counts(qc)\n",
    "    if '0' in dist and dist['0'] >= 512:\n",
    "        return False\n",
    "    else:\n",
    "        return True"
   ]
  },
  {
   "cell_type": "markdown",
   "id": "887748eb-d4ea-498a-bbb4-e5eb42deda33",
   "metadata": {
    "editable": true,
    "slideshow": {
     "slide_type": ""
    },
    "tags": []
   },
   "source": [
    "If we rerun our simple model evaluation, it will now be deployed on the Azure cloud simulator instead of running locally. "
   ]
  },
  {
   "cell_type": "code",
   "execution_count": 20,
   "id": "b643df6c-d9b5-4cd9-ba63-e2f9cf4370b7",
   "metadata": {
    "editable": true,
    "slideshow": {
     "slide_type": ""
    },
    "tags": []
   },
   "outputs": [
    {
     "name": "stdout",
     "output_type": "stream",
     "text": [
      "...............................[False, True, True, True]\n"
     ]
    }
   ],
   "source": [
    "Y_pred = quantumRuleModel(df)\n",
    "print(Y_pred)"
   ]
  },
  {
   "cell_type": "markdown",
   "id": "c9180d4f-4688-4ec4-8c22-6cb9c5405b9e",
   "metadata": {
    "editable": true,
    "slideshow": {
     "slide_type": ""
    },
    "tags": []
   },
   "source": [
    "If we pass the whole test set instead, we should see similar results (as the simulator is error free). Note that this will deploy one job per row of data, so it takes a while to run. If you deploy it on a real machine, be careful you do not consume all of your free-tier resources."
   ]
  },
  {
   "cell_type": "markdown",
   "id": "a9744b4a-e3fc-43c6-ac92-ae5fa636f6b8",
   "metadata": {
    "editable": true,
    "slideshow": {
     "slide_type": ""
    },
    "tags": []
   },
   "source": [
    "Obviously, we could also modify our ```basicQRuleClassifer``` function to return the counts instead (or as well) if we wanted to review / inspect the *confidence* of the rule. If this were run on a real device, we wouldn't get 100% agreement (due to noise). In this case, the number of shots (how many times the program / circuit is run) is high enough that any deviation from the expected result (here at least) wouldn't cause a problem. However, in more complex settings, this may not be the case."
   ]
  },
  {
   "cell_type": "markdown",
   "id": "ca6e4ce7-0f3b-49dc-a3b2-84c30aec7989",
   "metadata": {
    "editable": true,
    "slideshow": {
     "slide_type": ""
    },
    "tags": []
   },
   "source": [
    "## Using basic built-in QML Qiskit Components\n",
    "\n",
    "We'll start with a standard *off the shelf* style implementation of a quantum neural network. A QNN actually isn't a neural network, but it shares many ideas that look familiar to a classical neural network:\n",
    "- it has trainable paramters\n",
    "- we use a classical optimiser (even ones that can be used on a classical neural network)\n",
    "- the visual representation looks *similar* to the idea of layers\n",
    "- we can (but don't have to) train via a gradient\n",
    "- our final prediction layer is sort of similar to the idea of a soft max\n",
    "\n",
    "Aside from these convenient conceptual similarities, a QNN is a **fundamentally different** form of machine learning.\n",
    "\n",
    "The components that we need to discuss to form the architecture for the QNN are:\n",
    "- feature map: represents the transformation from a classical encoding to a quantum encoding of the data. This can also sometimes be referred to as a quantum embedding.\n",
    "- ansatz: a parameterised *template* quantum program that captures the functional learning of the QNN\n",
    "- optimiser: to tune the classical parameters\n",
    "\n",
    "We'll start with built in Qiskit functions, and explore some differences, then look at how to define custom components.\n",
    "\n",
    "Finally, the idea of *architecture search* from neural networks also applies to QML - the process of finding a good QNN architecture is effectivey a search process over a massive design space. This is also becoming a very common area of the literature, for more details see: https://www.nature.com/articles/s41534-022-00570-y"
   ]
  },
  {
   "cell_type": "markdown",
   "id": "8e6f5a8d-e4f9-4e46-bb21-7b8e9c9ff004",
   "metadata": {},
   "source": [
    "### Encoding Data: feature maps\n",
    "\n",
    "The naive approach here is to map 1 feature to 1 qubit. We don't have to do this, but it's a nice simplification initially. \n",
    "\n",
    "We have 5 features, so that would mean 5 qubits. However, we'll start with just the two numeric features as well, to keep things simple, and build up from there.\n",
    "\n",
    "As a general comment, the power of quantum is the ability to scale in the number of qubits, but the challenge is using more qubits effectively:\n",
    "- more qubits means more entanglement\n",
    "- more entanglement means increased circuit depth\n",
    "- increased circuit depth means needing better strategies to deal with errors and noise\n",
    "\n",
    "Similarly, the computational complexity of simulating the quantum systems scales quadratically with the number of qubits. \n",
    "\n",
    "There are hard limits to what your laptop can do. Modern day laptops can handle the simlation of only 10-15 qubit systems. We can increase this maximally to around 25-30 with some tricks in memory management etc. Incidentally, running on an insitutional HPC environment will not really do much more than add a handfull of qubits."
   ]
  },
  {
   "cell_type": "code",
   "execution_count": 22,
   "id": "d93e3602-c057-4107-bae9-0c07aeed0e28",
   "metadata": {},
   "outputs": [
    {
     "data": {
      "image/png": "[encoded data removed]",
      "text/plain": [
       "<Figure size 705.35x200.667 with 1 Axes>"
      ]
     },
     "execution_count": 22,
     "metadata": {},
     "output_type": "execute_result"
    }
   ],
   "source": [
    "X_train_num = pd.DataFrame(MinMaxScaler().fit_transform(X_train.select_dtypes(include='number')))\n",
    "X_test_num = pd.DataFrame(MinMaxScaler().fit_transform(X_test.select_dtypes(include='number')))\n",
    "\n",
    "num_features = X_train_num.shape[1]\n",
    "\n",
    "feature_map = ZZFeatureMap(feature_dimension=num_features, reps=1)\n",
    "feature_map.decompose().draw(output=\"mpl\", style=\"clifford\", fold=20)"
   ]
  },
  {
   "cell_type": "markdown",
   "id": "7e340a39-7c18-48e3-a106-75a132e00e1f",
   "metadata": {},
   "source": [
    "### Other considerations:\n",
    "\n",
    "**Reps:**\n",
    "- Each *rep* is like a layer in a (Q)NN\n",
    "- As we increase the number of layers, we also increased the propensity for NISQ-like errors to compound and cause problems. \n",
    "- In an error-free setting (such as the state vector simulator) we can easily fool ourselves into thinking more layers means better\n",
    "- In a NISQ setting, we want to minimise circuit depth: noise (from error) is bad, but we can tolerate some noise! \n",
    "- More reps means more parameters (here, basically model weights) to optimise -- these weights are different to the feature parameters from the Feature Map\n",
    "\n",
    "**Optimiser:**\n",
    "- There are many options, and each option has its own parameters (i.e. effectively hyperparameters) to consider\n",
    "- There are progressively more and more options being developed\n",
    "- In the early days (so 2020/1) optimisers were more general purpose, but recently we are seeing optimisers actively targetting the use case of QNNs."
   ]
  },
  {
   "cell_type": "markdown",
   "id": "480e8027-5757-4815-9425-e869d0495b09",
   "metadata": {},
   "source": [
    "### Ansatz\n",
    "\n",
    "We're going to use one of the most common starting points: RealAmplitudes. We'll also (for ease of illustration) use only 1 rep too. For the optimiser, we'll use another common choice: COBLYA. Why? It's not gradient based, so a lot faster."
   ]
  },
  {
   "cell_type": "code",
   "execution_count": 23,
   "id": "fc51c264-b608-465e-ab61-06af9dff6a31",
   "metadata": {},
   "outputs": [
    {
     "data": {
      "image/png": "[encoded data removed]",
      "text/plain": [
       "<Figure size 370.906x200.667 with 1 Axes>"
      ]
     },
     "execution_count": 23,
     "metadata": {},
     "output_type": "execute_result"
    }
   ],
   "source": [
    "ansatz = RealAmplitudes(num_qubits=num_features, reps=1)\n",
    "ansatz.decompose().draw(output=\"mpl\", style=\"clifford\", fold=20)"
   ]
  },
  {
   "cell_type": "code",
   "execution_count": 24,
   "id": "a5e71110-5b54-400b-bbed-c7a83038fb9b",
   "metadata": {},
   "outputs": [
    {
     "name": "stderr",
     "output_type": "stream",
     "text": [
      "/var/folders/0m/15hq16r15hv9wdnnpmgb8twh0000gn/T/ipykernel_9912/963346959.py:2: DeprecationWarning: The class ``qiskit.primitives.sampler.Sampler`` is deprecated as of qiskit 1.2. It will be removed no earlier than 3 months after the release date. All implementations of the `BaseSamplerV1` interface have been deprecated in favor of their V2 counterparts. The V2 alternative for the `Sampler` class is `StatevectorSampler`.\n",
      "  sampler = Sampler()\n"
     ]
    }
   ],
   "source": [
    "optimizer = COBYLA(maxiter=100)\n",
    "sampler = Sampler()\n",
    "\n",
    "#array of loss (or similar) values for each iteration\n",
    "objective_func_vals = []\n",
    "plt.rcParams[\"figure.figsize\"] = (12, 6)\n",
    "\n",
    "def callback_graph(weights, obj_func_eval):\n",
    "    clear_output(wait=True)\n",
    "    objective_func_vals.append(obj_func_eval)\n",
    "    plt.title(\"Objective function value against iteration\")\n",
    "    plt.xlabel(\"Iteration\")\n",
    "    plt.ylabel(\"Objective function value\")\n",
    "    plt.plot(range(len(objective_func_vals)), objective_func_vals)\n",
    "    plt.show()"
   ]
  },
  {
   "cell_type": "markdown",
   "id": "73ca8edc-b9ef-4f5c-bb9e-3325337ceddf",
   "metadata": {},
   "source": [
    "### Building and Training the QNN\n",
    "\n",
    "We essentially concatenate the feature map and ansatz, and package this up as a VQC object:"
   ]
  },
  {
   "cell_type": "code",
   "execution_count": 25,
   "id": "ec94f2c0-c89b-498e-bd2b-ef915e533b03",
   "metadata": {},
   "outputs": [],
   "source": [
    "vqc = VQC(\n",
    "    sampler=sampler,\n",
    "    feature_map=feature_map,\n",
    "    ansatz=ansatz,\n",
    "    optimizer=optimizer,\n",
    "    callback=callback_graph,\n",
    ")\n",
    "\n",
    "# clear objective value history\n",
    "objective_func_vals = []"
   ]
  },
  {
   "cell_type": "code",
   "execution_count": 26,
   "id": "6cf442d0-8ec8-4ff3-93db-067f0f82d087",
   "metadata": {},
   "outputs": [
    {
     "data": {
      "image/png": "[encoded data removed]",
      "text/plain": [
       "<Figure size 1200x600 with 1 Axes>"
      ]
     },
     "metadata": {},
     "output_type": "display_data"
    },
    {
     "data": {
      "text/plain": [
       "<qiskit_machine_learning.algorithms.classifiers.vqc.VQC at 0x1607c50a0>"
      ]
     },
     "execution_count": 26,
     "metadata": {},
     "output_type": "execute_result"
    }
   ],
   "source": [
    "vqc.fit(X_train_num, Y_train.array)"
   ]
  },
  {
   "cell_type": "code",
   "execution_count": 27,
   "id": "2f356b0a-b780-4687-b99b-7b693eb59b81",
   "metadata": {},
   "outputs": [
    {
     "name": "stdout",
     "output_type": "stream",
     "text": [
      "Quantum VQC on the training dataset: 0.66\n",
      "Quantum VQC on the test dataset:     0.65\n"
     ]
    }
   ],
   "source": [
    "train_score_q4 = vqc.score(X_train_num, Y_train)\n",
    "test_score_q4 = vqc.score(X_test_num, Y_test)\n",
    "\n",
    "print(f\"Quantum VQC on the training dataset: {train_score_q4:.2f}\")\n",
    "print(f\"Quantum VQC on the test dataset:     {test_score_q4:.2f}\")"
   ]
  },
  {
   "cell_type": "markdown",
   "id": "0b7ce538-6b5f-4045-b5eb-5adc26a40690",
   "metadata": {},
   "source": [
    "65% test accuracy is poor, but still better than random, and we really have constrained our QNN a lot! If we provide it with a little more capacity by increasing our repetitions:"
   ]
  },
  {
   "cell_type": "code",
   "execution_count": 28,
   "id": "fa7bd16f-3eae-4014-9703-97b9aa2c8290",
   "metadata": {},
   "outputs": [
    {
     "data": {
      "image/png": "[encoded data removed]",
      "text/plain": [
       "<Figure size 1200x600 with 1 Axes>"
      ]
     },
     "metadata": {},
     "output_type": "display_data"
    },
    {
     "name": "stdout",
     "output_type": "stream",
     "text": [
      "Quantum VQC on the training dataset: 0.67\n",
      "Quantum VQC on the test dataset:     0.65\n"
     ]
    }
   ],
   "source": [
    "ansatz = RealAmplitudes(num_qubits=num_features, reps=3)\n",
    "\n",
    "vqc = VQC(\n",
    "    sampler=sampler,\n",
    "    feature_map=feature_map,\n",
    "    ansatz=ansatz,\n",
    "    optimizer=optimizer,\n",
    "    callback=callback_graph,\n",
    ")\n",
    "\n",
    "# clear objective value history\n",
    "objective_func_vals = []\n",
    "\n",
    "vqc.fit(X_train_num, Y_train.array)\n",
    "\n",
    "train_score_q4 = vqc.score(X_train_num, Y_train)\n",
    "test_score_q4 = vqc.score(X_test_num, Y_test)\n",
    "\n",
    "print(f\"Quantum VQC on the training dataset: {train_score_q4:.2f}\")\n",
    "print(f\"Quantum VQC on the test dataset:     {test_score_q4:.2f}\")"
   ]
  },
  {
   "cell_type": "markdown",
   "id": "9136cbe8-6bb7-4998-bacc-aa84e544cedd",
   "metadata": {},
   "source": [
    "## Exploring the QNN Architecture \n",
    "Increasing the reps and therefore giving the QNN a bit more functional expressivity, hasn't made much difference... there's probably not enough variance captured by the 2 numeric features. So, let's work in the 3 binary variables.\n",
    "\n",
    "Before this, to cut down on repeated code, a helper function..."
   ]
  },
  {
   "cell_type": "markdown",
   "id": "50066846-8c0c-4e46-be5c-bc4da58b131b",
   "metadata": {},
   "source": [
    "### Tidying Up"
   ]
  },
  {
   "cell_type": "code",
   "execution_count": 57,
   "id": "47e2750b-e493-4224-9371-9ef7290fb7fc",
   "metadata": {},
   "outputs": [],
   "source": [
    "def trainQNN(featuremap, ansatz, optimiser, training, testing, showGraph=True):\n",
    "    if (showGraph):\n",
    "        # clear objective value history\n",
    "        objective_func_vals = []\n",
    "        \n",
    "        vqc = VQC(\n",
    "            sampler=sampler,\n",
    "            feature_map=featuremap,\n",
    "            ansatz=ansatz,\n",
    "            optimizer=optimizer,\n",
    "            callback=callback_graph,\n",
    "        )\n",
    "    else:\n",
    "        vqc = VQC(\n",
    "            sampler=sampler,\n",
    "            feature_map=featuremap,\n",
    "            ansatz=ansatz,\n",
    "            optimizer=optimizer,\n",
    "        )\n",
    "\n",
    "    start = time.time()\n",
    "    vqc.fit(training, Y_train.array)\n",
    "    elapsed = time.time() - start\n",
    "\n",
    "    train_score_q4 = vqc.score(training, Y_train)\n",
    "    test_score_q4 = vqc.score(testing, Y_test)\n",
    "\n",
    "    parameters = vqc.circuit.num_parameters\n",
    "\n",
    "    return train_score_q4, test_score_q4, elapsed, parameters"
   ]
  },
  {
   "cell_type": "markdown",
   "id": "b84aa181-49e6-49d2-aebe-09d2275a2f3c",
   "metadata": {},
   "source": [
    "To use our binary variables, we'll need to encode them differently if we want to use the built in feature map. Of course we can do things ourselves instead if we want more control. While we're at it, we'll scale ``PClass`` too. Obviously there is an amount of information loss in what we're doing here though."
   ]
  },
  {
   "cell_type": "code",
   "execution_count": 30,
   "id": "1e95ea26-9fcf-4089-9cb8-bb820b853206",
   "metadata": {},
   "outputs": [
    {
     "data": {
      "text/html": [
       "<div>\n",
       "<style scoped>\n",
       "    .dataframe tbody tr th:only-of-type {\n",
       "        vertical-align: middle;\n",
       "    }\n",
       "\n",
       "    .dataframe tbody tr th {\n",
       "        vertical-align: top;\n",
       "    }\n",
       "\n",
       "    .dataframe thead th {\n",
       "        text-align: right;\n",
       "    }\n",
       "</style>\n",
       "<table border=\"1\" class=\"dataframe\">\n",
       "  <thead>\n",
       "    <tr style=\"text-align: right;\">\n",
       "      <th></th>\n",
       "      <th>Pclass</th>\n",
       "      <th>Below18</th>\n",
       "      <th>IsAlone</th>\n",
       "      <th>Female</th>\n",
       "      <th>scaled_fare</th>\n",
       "    </tr>\n",
       "  </thead>\n",
       "  <tbody>\n",
       "    <tr>\n",
       "      <th>331</th>\n",
       "      <td>0.0</td>\n",
       "      <td>0</td>\n",
       "      <td>1</td>\n",
       "      <td>0</td>\n",
       "      <td>0.055628</td>\n",
       "    </tr>\n",
       "    <tr>\n",
       "      <th>733</th>\n",
       "      <td>0.5</td>\n",
       "      <td>0</td>\n",
       "      <td>1</td>\n",
       "      <td>0</td>\n",
       "      <td>0.025374</td>\n",
       "    </tr>\n",
       "    <tr>\n",
       "      <th>382</th>\n",
       "      <td>1.0</td>\n",
       "      <td>0</td>\n",
       "      <td>1</td>\n",
       "      <td>0</td>\n",
       "      <td>0.015469</td>\n",
       "    </tr>\n",
       "    <tr>\n",
       "      <th>704</th>\n",
       "      <td>1.0</td>\n",
       "      <td>0</td>\n",
       "      <td>0</td>\n",
       "      <td>0</td>\n",
       "      <td>0.015330</td>\n",
       "    </tr>\n",
       "    <tr>\n",
       "      <th>813</th>\n",
       "      <td>1.0</td>\n",
       "      <td>1</td>\n",
       "      <td>0</td>\n",
       "      <td>1</td>\n",
       "      <td>0.061045</td>\n",
       "    </tr>\n",
       "  </tbody>\n",
       "</table>\n",
       "</div>"
      ],
      "text/plain": [
       "     Pclass  Below18  IsAlone  Female  scaled_fare\n",
       "331     0.0        0        1       0     0.055628\n",
       "733     0.5        0        1       0     0.025374\n",
       "382     1.0        0        1       0     0.015469\n",
       "704     1.0        0        0       0     0.015330\n",
       "813     1.0        1        0       1     0.061045"
      ]
     },
     "execution_count": 30,
     "metadata": {},
     "output_type": "execute_result"
    }
   ],
   "source": [
    "X_train_q = X_train\n",
    "X_test_q = X_test\n",
    "\n",
    "X_train_q[\"Below18\"] = X_train[\"Below18\"].map({False: 0, True: 1})\n",
    "X_train_q[\"IsAlone\"] = X_train[\"IsAlone\"].map({False: 0, True: 1})\n",
    "X_train_q[\"Female\"] = X_train[\"Female\"].map({False: 0, True: 1})\n",
    "\n",
    "X_test_q[\"Below18\"] = X_test[\"Below18\"].map({False: 0, True: 1})\n",
    "X_test_q[\"IsAlone\"] = X_test[\"IsAlone\"].map({False: 0, True: 1})\n",
    "X_test_q[\"Female\"] = X_test[\"Female\"].map({False: 0, True: 1})\t\t\n",
    "\n",
    "X_train_q[\"Pclass\"] = scaler.fit_transform(X_train[[\"Pclass\"]])\n",
    "X_test_q[\"Pclass\"] = scaler.fit_transform(X_test[[\"Pclass\"]])\n",
    "\n",
    "X_train_q.head()"
   ]
  },
  {
   "cell_type": "markdown",
   "id": "e53894f7-999a-4827-a8c4-5ef6ac625ad8",
   "metadata": {},
   "source": [
    "## Functional Expressivity\n",
    "\n",
    "We can now play a little with the reps parameters, and we'll slowly see that as we increase these (in both the feature map and ansatz) our model will (well should!) gradually increase in performance. However, so too, will the time needed to train it. In fact, we can also see that the model below (i.e. with 3 reps in the feature map, and 3 reps in the ansatz) hasn't yet fully converged, so we may need to increase the number of iterations in the optimiser for maximal performance of this architecture."
   ]
  },
  {
   "cell_type": "code",
   "execution_count": 56,
   "id": "50b52a5c-0efb-4fa3-98fd-25c4e2eeab93",
   "metadata": {
    "scrolled": true
   },
   "outputs": [
    {
     "name": "stdout",
     "output_type": "stream",
     "text": [
      "Quantum VQC on the training dataset: 0.67\n",
      "Quantum VQC on the test dataset:     0.69\n",
      "Runtime:                             618.39\n",
      "Parameters:                          25\n",
      "Depth:                               2\n"
     ]
    }
   ],
   "source": [
    "num_features = X_train_q.shape[1]\n",
    "feature_map = ZZFeatureMap(feature_dimension=num_features, reps=3)\n",
    "ansatz = RealAmplitudes(num_qubits=num_features, reps=3)\n",
    "\n",
    "# clear objective value history\n",
    "objective_func_vals = []\n",
    "\n",
    "s1, s2, runtime, p = trainQNN(feature_map, ansatz, optimizer, X_train_q, X_test_q, True)\n",
    "print(f\"Quantum VQC on the training dataset: {s1:.2f}\")\n",
    "print(f\"Quantum VQC on the test dataset:     {s2:.2f}\")\n",
    "print(f\"Runtime:                             {runtime:.2f}\")\n",
    "print(f\"Parameters:                          {p}\")"
   ]
  },
  {
   "cell_type": "markdown",
   "id": "0218d3b1-dcbb-40dd-b8e1-c6f65d337628",
   "metadata": {},
   "source": [
    "Getting better: into the 70s% now. However, we are still not improving upon our basic rule-based model. So we need to explore the architecture design space. This means essentially investigating the following components of our model:\n",
    "1. The feature map, its reps, and data loading strategies\n",
    "2. The choice of ansatz, and its reps\n",
    "3. The choice of optimiser, and its associated parameters (e.g. iterations)."
   ]
  },
  {
   "cell_type": "markdown",
   "id": "0a821065-87a7-4a9d-99c3-f3620a034cc1",
   "metadata": {},
   "source": [
    "## Defining our own Ansätze and Feature Maps and Exploring different QNN Architectures\n",
    "\n",
    "We'll define a few ansätze and feature maps ourself, as this is useful to know how to do should you read a paper and find a circuit diagram / architecture you want to try out.\n",
    "\n",
    "These have obviously been chosen to show a range of performance, and illustrate that there is no free lunch in QML either!\n",
    "\n",
    "We're going to simplify things a little here and make some assumptions about the number of qubits and features we use. It's being fixed to 5, with 1 feature per qubit. For reasons of time in the tutorial, we're not going to extend beyond this. However, making some modifications to explore a larger architecture space shouldn't be difficult.\n",
    "\n",
    "We also notice that some models trained so far have not really converged after 100 iterations. We're going to explore a few different architectures and show the difference some choices make: feature map, ansatz, and optimizer choice.\n",
    "\n",
    "Ansätze (common ones you'll see in **exploration** style papers):\n",
    "- real amplitudes\n",
    "- efficient SU2\n",
    "- hardware efficient\n",
    "- quantum convolutional\n",
    "- swap ansatz\n",
    "\n",
    "Feature Maps (also fairly common in papers):\n",
    "- angle encoding\n",
    "- z feature map\n",
    "- zz feature map\n",
    "- pauli rotation feature map\n",
    "\n",
    "Optimisers:\n",
    "- COBYLA\n",
    "- SPSM\n",
    "\n",
    "Note you could add ADAM here, but the runtime will be somewhat excessive.\n",
    "\n",
    "We'll vary the number of layers a little at least as we don't really want 1000s of models to try and compare."
   ]
  },
  {
   "cell_type": "code",
   "execution_count": 63,
   "id": "199e683d-8764-475e-adf9-65c8cf5388d9",
   "metadata": {},
   "outputs": [],
   "source": [
    "def real_amplitudes(num_qubits=3, layers=3):\n",
    "    qc = QuantumCircuit(num_qubits, 1) \n",
    "    parameters = []\n",
    "    \n",
    "    for l in range(layers):\n",
    "        for i in range(num_qubits):\n",
    "            theta = Parameter(f'θ_{l}_{i}')\n",
    "            parameters.append(theta)\n",
    "            qc.ry(theta, i)\n",
    "        \n",
    "        for i in range(num_qubits):\n",
    "            qc.cx(i, (i + 1) % num_qubits)\n",
    "    \n",
    "    qc.measure(0, 0)\n",
    "    \n",
    "    return qc\n",
    "    \n",
    "def eff_su2(num_qubits=3, layers=3):\n",
    "    qc = QuantumCircuit(num_qubits, 1)  \n",
    "    parameters = []\n",
    "    \n",
    "    for l in range(layers):\n",
    "        for i in range(num_qubits):\n",
    "            theta = Parameter(f'θ_{l}_{i}')\n",
    "            parameters.append(theta)\n",
    "            qc.ry(theta, i)\n",
    "            qc.rz(theta, i)\n",
    "        for i in range(num_qubits):\n",
    "            qc.cx(i, (i + 1) % num_qubits)\n",
    "    \n",
    "    qc.measure(0, 0)\n",
    "    \n",
    "    return qc\n",
    "\n",
    "def hardware_efficient(num_qubits=3, layers=3):\n",
    "\n",
    "    qc = QuantumCircuit(num_qubits, 1)\n",
    "    parameters = []\n",
    "    \n",
    "    for l in range(layers):\n",
    "        for i in range(num_qubits):\n",
    "            theta1 = Parameter(f'θ_{l}_{i}_1')\n",
    "            theta2 = Parameter(f'θ_{l}_{i}_2')\n",
    "            theta3 = Parameter(f'θ_{l}_{i}_3')\n",
    "            parameters.extend([theta1, theta2, theta3])\n",
    "            \n",
    "            qc.rz(theta1, i)\n",
    "            qc.ry(theta2, i)\n",
    "            qc.rz(theta3, i)\n",
    "        \n",
    "        if l < layers - 1:\n",
    "            for i in range(num_qubits-1):\n",
    "                qc.cx(i, i+1)\n",
    "        \n",
    "    qc.measure(0, 0)\n",
    "    return qc\n",
    "\n",
    "def quantum_convolutional(num_qubits=4, layers=2):\n",
    "\n",
    "    qc = QuantumCircuit(num_qubits, 1)\n",
    "    parameters = []\n",
    "    \n",
    "    #initial rotation layer\n",
    "    for i in range(num_qubits):\n",
    "        theta = Parameter(f'θ_init_{i}')\n",
    "        parameters.append(theta)\n",
    "        qc.ry(theta, i)\n",
    "    \n",
    "    #convolutional layers\n",
    "    for l in range(layers):\n",
    "        #two-qubit convolutions\n",
    "        for i in range(0, num_qubits-1, 2):\n",
    "            theta1 = Parameter(f'θ_conv_{l}_{i}_1')\n",
    "            theta2 = Parameter(f'θ_conv_{l}_{i}_2')\n",
    "            parameters.extend([theta1, theta2])\n",
    "            \n",
    "            qc.cx(i, i+1)\n",
    "            qc.rz(theta1, i+1)\n",
    "            qc.cx(i, i+1)\n",
    "            qc.ry(theta2, i)\n",
    "        \n",
    "        #shift and repeat (offset by 1)\n",
    "        for i in range(1, num_qubits-1, 2):\n",
    "            theta1 = Parameter(f'θ_conv_{l}_{i}_1')\n",
    "            theta2 = Parameter(f'θ_conv_{l}_{i}_2')\n",
    "            parameters.extend([theta1, theta2])\n",
    "            \n",
    "            qc.cx(i, i+1)\n",
    "            qc.rz(theta1, i+1)\n",
    "            qc.cx(i, i+1)\n",
    "            qc.ry(theta2, i)\n",
    "    \n",
    "    #rotation layer\n",
    "    for i in range(num_qubits):\n",
    "        theta = Parameter(f'θ_final_{i}')\n",
    "        parameters.append(theta)\n",
    "        qc.ry(theta, i)\n",
    "    \n",
    "    qc.measure(0, 0)\n",
    "    return qc\n",
    "    \n",
    "def swap_ansatz(num_qubits=3, layers=2):\n",
    "  \n",
    "    qc = QuantumCircuit(num_qubits, 1)\n",
    "    \n",
    "    for i in range(num_qubits):\n",
    "        theta = Parameter(f'θ_init_{i}')\n",
    "        qc.ry(theta, i)\n",
    "    \n",
    "    for l in range(layers):\n",
    "        for i in range(0, num_qubits-1, 2):\n",
    "            theta = Parameter(f'θ_swap_{l}_{i}')\n",
    "            \n",
    "            qc.cx(i, i+1)\n",
    "            qc.ry(theta, i+1)\n",
    "            qc.cx(i+1, i)\n",
    "            qc.ry(theta, i)\n",
    "            qc.cx(i, i+1)\n",
    "        \n",
    "        if num_qubits > 2:\n",
    "            for i in range(1, num_qubits-1, 2):\n",
    "                theta = Parameter(f'θ_swap_{l}_{i}')\n",
    "                \n",
    "                qc.cx(i, i+1)\n",
    "                qc.ry(theta, i+1)\n",
    "                qc.cx(i+1, i)\n",
    "                qc.ry(theta, i)\n",
    "                qc.cx(i, i+1)\n",
    "    \n",
    "    for i in range(num_qubits):\n",
    "        theta = Parameter(f'θ_final_{i}')\n",
    "        qc.ry(theta, i)\n",
    "    \n",
    "    qc.measure(0, 0)\n",
    "    return qc\n",
    "\n",
    "\n",
    "def angle_encode_features(num_qubits, feature_dim):\n",
    "\n",
    "    params = ParameterVector('x', feature_dim)\n",
    "    circuit = QuantumCircuit(num_qubits)\n",
    "    \n",
    "    for i in range(feature_dim):\n",
    "        qubit_idx = i % num_qubits\n",
    "        circuit.ry(params[i] * np.pi, qubit_idx)\n",
    "    \n",
    "    for i in range(num_qubits-1):\n",
    "        circuit.cx(i, i+1)\n",
    "    \n",
    "    return circuit\n",
    "    \n",
    "def z_feature_map(num_qubits,feature_dim):\n",
    "\n",
    "    params = ParameterVector('x', feature_dim)\n",
    "    circuit = QuantumCircuit(num_qubits)\n",
    "    \n",
    "    circuit.h(range(num_qubits))\n",
    "    \n",
    "    for i in range(num_qubits):\n",
    "        qubit_idx = i % num_qubits\n",
    "        circuit.rz(params[i] * np.pi, qubit_idx)\n",
    "\n",
    "\n",
    "    return circuit\n",
    "    \n",
    "def zz_feature_map(num_qubits, feature_dim):\n",
    "    \n",
    "\n",
    "    params = ParameterVector('x', feature_dim)\n",
    "    circuit = QuantumCircuit(num_qubits)\n",
    "    \n",
    "    circuit.h(range(num_qubits))\n",
    "    \n",
    "    for i in range(num_qubits):\n",
    "        for j in range(i + 1, num_qubits):\n",
    "            #  product of two parameters to encode interactions\n",
    "            param_idx_i = i % feature_dim\n",
    "            param_idx_j = j % feature_dim\n",
    "            circuit.cx(i, j)\n",
    "            circuit.rz((np.pi / 2) * (params[param_idx_i] + params[param_idx_j]), j)\n",
    "\n",
    "            circuit.cx(i, j)\n",
    "\n",
    "    return circuit\n",
    "    \n",
    "def pauli_feature_map(num_qubits, feature_dim):\n",
    "    params = ParameterVector('x', feature_dim)\n",
    "    circuit = QuantumCircuit(num_qubits)\n",
    "\n",
    "    for i in range(num_qubits):\n",
    "        qubit_idx = i % num_qubits\n",
    "        circuit.rx(params[i], qubit_idx)\n",
    "        circuit.ry(params[i], qubit_idx)\n",
    "        circuit.rz(params[i], qubit_idx)\n",
    "\n",
    "    return circuit\n"
   ]
  },
  {
   "cell_type": "code",
   "execution_count": null,
   "id": "7c0f1b0f-1259-48f8-bed5-8eb178c6fa59",
   "metadata": {},
   "outputs": [],
   "source": []
  },
  {
   "cell_type": "code",
   "execution_count": null,
   "id": "bc21b4f2-3d22-4ad6-87e4-943438d0e1a3",
   "metadata": {},
   "outputs": [],
   "source": []
  },
  {
   "cell_type": "markdown",
   "id": "8c367024-3cb7-4c4f-8854-0f3cc9bb854d",
   "metadata": {},
   "source": [
    "## Exploring our Circuit Search Space\n",
    "\n",
    "We can visualise any combination of feature map and ansatz just by concatenating our circuits to see what our VQC architecture will be, for example (but you can explore as you see fit to)."
   ]
  },
  {
   "cell_type": "code",
   "execution_count": 89,
   "id": "9a7d08f8-339a-46f0-ad54-ac72bb2fc385",
   "metadata": {},
   "outputs": [
    {
     "data": {
      "image/png": "[encoded data removed]",
      "text/plain": [
       "<Figure size 1792.5x1120.39 with 1 Axes>"
      ]
     },
     "execution_count": 89,
     "metadata": {},
     "output_type": "execute_result"
    }
   ],
   "source": [
    "qc = QuantumCircuit(5)\n",
    "qc = qc.compose(pauli_feature_map(5, 5), qubits=[0,1,2,3,4])\n",
    "qc = qc.compose(eff_su2(5, 3), qubits=[0,1,2,3,4])\n",
    "\n",
    "qc.decompose().draw(output=\"mpl\", style=\"clifford\", fold=20)"
   ]
  },
  {
   "cell_type": "markdown",
   "id": "52fcb67e-0bcb-4f7b-a9ef-f0e139977255",
   "metadata": {},
   "source": [
    "## Brute Forcing (sort of) the Architecture Search\n",
    "\n",
    "We know some of these might not have converged, but we'll take the top few and see if giving them a little more time with the optimizer helps out.\n",
    "\n",
    "Note that if we run the block of code above a few times, we would have a better indication of the top models from a performance stability perspective, as performance can vary, sometimes quite significantly especially if the combination of data prep, feature map, ansatz combination is not stable or well suited to the dataset.\n",
    "\n",
    "Based on the above, some of the best models are (roughly as we also want a little variation too):\n",
    "1. angle_encode_features+eff_su2(6 layers w/COBYLA) -> 0.80\n",
    "2. angle_encode_features+swap_ansatz(5 layers w/COBYLA) -> 0.82\n",
    "3. z_feature_map+swap_ansatz(5 layers w/COBYLA) -> 0.80\n",
    "4. zz_feature_map+hardware_efficient(3 layers w/COBYLA) -> 0.80\n",
    "5. pauli_feature_map+eff_su2(6 layers w/COBYLA) -> 0.81\n",
    "6. angle_encode_features+real_amplitudes(2 layers w/SPSA) -> 0.79\n",
    "7. zz_feature_map+eff_su2(4 layers w/SPSA) -> 0.79\n",
    "8. angle_encode_features+quantum_convolutional(3 layers w/SPSA) -> 0.74\n",
    "\n",
    "Note a few additional observations:\n",
    "- There is a fairly obvious correlation between training time and the number of parameters\n",
    "- Compared to classical neural networks, the number of parameters is **REALLY** low\n",
    "- Some of the times are **high** because computation was paused and not run in one continuous session\n",
    "- More is not always better, sometimes adding more layers did little more than increase the training time\n",
    "- Some combinations (with this dataset, and data preparation strategy) just don't work"
   ]
  },
  {
   "cell_type": "code",
   "execution_count": 64,
   "id": "b061a2ed-7f98-418a-a8a7-f89e2bc55888",
   "metadata": {
    "scrolled": true
   },
   "outputs": [
    {
     "name": "stdout",
     "output_type": "stream",
     "text": [
      "angle_encode_features+real_amplitudes(2 layers w/COBYLA) -> 0.78(0.79) ran for 120.74 -- 15 params\n",
      "angle_encode_features+real_amplitudes(3 layers w/COBYLA) -> 0.78(0.79) ran for 159.99 -- 20 params\n",
      "angle_encode_features+real_amplitudes(4 layers w/COBYLA) -> 0.78(0.79) ran for 198.58 -- 25 params\n",
      "angle_encode_features+real_amplitudes(5 layers w/COBYLA) -> 0.78(0.78) ran for 238.47 -- 30 params\n",
      "angle_encode_features+real_amplitudes(6 layers w/COBYLA) -> 0.76(0.79) ran for 277.81 -- 35 params\n",
      "angle_encode_features+eff_su2(2 layers w/COBYLA) -> 0.78(0.78) ran for 165.80 -- 15 params\n",
      "angle_encode_features+eff_su2(3 layers w/COBYLA) -> 0.75(0.76) ran for 229.07 -- 20 params\n",
      "angle_encode_features+eff_su2(4 layers w/COBYLA) -> 0.74(0.78) ran for 285.68 -- 25 params\n",
      "angle_encode_features+eff_su2(5 layers w/COBYLA) -> 0.75(0.77) ran for 341.05 -- 30 params\n",
      "angle_encode_features+eff_su2(6 layers w/COBYLA) -> 0.80(0.80) ran for 400.80 -- 35 params\n",
      "angle_encode_features+hardware_efficient(2 layers w/COBYLA) -> 0.61(0.63) ran for 191.85 -- 35 params\n",
      "angle_encode_features+hardware_efficient(3 layers w/COBYLA) -> 0.73(0.69) ran for 270.85 -- 50 params\n",
      "angle_encode_features+hardware_efficient(4 layers w/COBYLA) -> 0.72(0.76) ran for 347.37 -- 65 params\n",
      "angle_encode_features+hardware_efficient(5 layers w/COBYLA) -> 0.75(0.79) ran for 424.24 -- 80 params\n",
      "angle_encode_features+hardware_efficient(6 layers w/COBYLA) -> 0.72(0.74) ran for 518.27 -- 95 params\n",
      "angle_encode_features+quantum_convolutional(2 layers w/COBYLA) -> 0.69(0.68) ran for 219.75 -- 31 params\n",
      "angle_encode_features+quantum_convolutional(3 layers w/COBYLA) -> 0.64(0.59) ran for 281.63 -- 39 params\n",
      "angle_encode_features+quantum_convolutional(4 layers w/COBYLA) -> 0.74(0.75) ran for 342.78 -- 47 params\n",
      "angle_encode_features+quantum_convolutional(5 layers w/COBYLA) -> 0.74(0.75) ran for 400.59 -- 55 params\n",
      "angle_encode_features+quantum_convolutional(6 layers w/COBYLA) -> 0.64(0.59) ran for 457.96 -- 63 params\n",
      "angle_encode_features+swap_ansatz(2 layers w/COBYLA) -> 0.78(0.79) ran for 3062.57 -- 23 params\n",
      "angle_encode_features+swap_ansatz(3 layers w/COBYLA) -> 0.71(0.75) ran for 2122.66 -- 27 params\n",
      "angle_encode_features+swap_ansatz(4 layers w/COBYLA) -> 0.72(0.76) ran for 385.30 -- 31 params\n",
      "angle_encode_features+swap_ansatz(5 layers w/COBYLA) -> 0.82(0.80) ran for 1056.78 -- 35 params\n",
      "angle_encode_features+swap_ansatz(6 layers w/COBYLA) -> 0.78(0.79) ran for 546.83 -- 39 params\n",
      "z_feature_map+real_amplitudes(2 layers w/COBYLA) -> 0.71(0.75) ran for 134.22 -- 15 params\n",
      "z_feature_map+real_amplitudes(3 layers w/COBYLA) -> 0.78(0.79) ran for 172.59 -- 20 params\n",
      "z_feature_map+real_amplitudes(4 layers w/COBYLA) -> 0.74(0.78) ran for 212.59 -- 25 params\n",
      "z_feature_map+real_amplitudes(5 layers w/COBYLA) -> 0.78(0.79) ran for 253.69 -- 30 params\n",
      "z_feature_map+real_amplitudes(6 layers w/COBYLA) -> 0.75(0.79) ran for 290.20 -- 35 params\n",
      "z_feature_map+eff_su2(2 layers w/COBYLA) -> 0.71(0.75) ran for 175.04 -- 15 params\n",
      "z_feature_map+eff_su2(3 layers w/COBYLA) -> 0.67(0.67) ran for 234.58 -- 20 params\n",
      "z_feature_map+eff_su2(4 layers w/COBYLA) -> 0.77(0.76) ran for 294.72 -- 25 params\n",
      "z_feature_map+eff_su2(5 layers w/COBYLA) -> 0.79(0.80) ran for 354.24 -- 30 params\n",
      "z_feature_map+eff_su2(6 layers w/COBYLA) -> 0.77(0.78) ran for 3066.08 -- 35 params\n",
      "z_feature_map+hardware_efficient(2 layers w/COBYLA) -> 0.73(0.69) ran for 5022.21 -- 35 params\n",
      "z_feature_map+hardware_efficient(3 layers w/COBYLA) -> 0.73(0.70) ran for 270.79 -- 50 params\n",
      "z_feature_map+hardware_efficient(4 layers w/COBYLA) -> 0.74(0.78) ran for 353.67 -- 65 params\n",
      "z_feature_map+hardware_efficient(5 layers w/COBYLA) -> 0.72(0.76) ran for 431.29 -- 80 params\n",
      "z_feature_map+hardware_efficient(6 layers w/COBYLA) -> 0.72(0.76) ran for 510.11 -- 95 params\n",
      "z_feature_map+quantum_convolutional(2 layers w/COBYLA) -> 0.73(0.69) ran for 218.79 -- 31 params\n",
      "z_feature_map+quantum_convolutional(3 layers w/COBYLA) -> 0.73(0.69) ran for 280.79 -- 39 params\n",
      "z_feature_map+quantum_convolutional(4 layers w/COBYLA) -> 0.65(0.64) ran for 342.07 -- 47 params\n",
      "z_feature_map+quantum_convolutional(5 layers w/COBYLA) -> 0.73(0.69) ran for 403.88 -- 55 params\n",
      "z_feature_map+quantum_convolutional(6 layers w/COBYLA) -> 0.73(0.69) ran for 463.43 -- 63 params\n",
      "z_feature_map+swap_ansatz(2 layers w/COBYLA) -> 0.72(0.76) ran for 243.48 -- 23 params\n",
      "z_feature_map+swap_ansatz(3 layers w/COBYLA) -> 0.75(0.76) ran for 316.45 -- 27 params\n",
      "z_feature_map+swap_ansatz(4 layers w/COBYLA) -> 0.78(0.79) ran for 390.24 -- 31 params\n",
      "z_feature_map+swap_ansatz(5 layers w/COBYLA) -> 0.80(0.80) ran for 466.12 -- 35 params\n",
      "z_feature_map+swap_ansatz(6 layers w/COBYLA) -> 0.74(0.77) ran for 548.37 -- 39 params\n",
      "zz_feature_map+real_amplitudes(2 layers w/COBYLA) -> 0.73(0.78) ran for 231.78 -- 15 params\n",
      "zz_feature_map+real_amplitudes(3 layers w/COBYLA) -> 0.72(0.73) ran for 267.18 -- 20 params\n",
      "zz_feature_map+real_amplitudes(4 layers w/COBYLA) -> 0.74(0.77) ran for 304.26 -- 25 params\n",
      "zz_feature_map+real_amplitudes(5 layers w/COBYLA) -> 0.68(0.75) ran for 343.93 -- 30 params\n",
      "zz_feature_map+real_amplitudes(6 layers w/COBYLA) -> 0.77(0.79) ran for 382.74 -- 35 params\n",
      "zz_feature_map+eff_su2(2 layers w/COBYLA) -> 0.75(0.74) ran for 4832.10 -- 15 params\n",
      "zz_feature_map+eff_su2(3 layers w/COBYLA) -> 0.75(0.74) ran for 316.82 -- 20 params\n",
      "zz_feature_map+eff_su2(4 layers w/COBYLA) -> 0.79(0.79) ran for 2173.83 -- 25 params\n",
      "zz_feature_map+eff_su2(5 layers w/COBYLA) -> 0.79(0.80) ran for 2218.47 -- 30 params\n",
      "zz_feature_map+eff_su2(6 layers w/COBYLA) -> 0.75(0.79) ran for 2278.41 -- 35 params\n",
      "zz_feature_map+hardware_efficient(2 layers w/COBYLA) -> 0.51(0.55) ran for 284.29 -- 35 params\n",
      "zz_feature_map+hardware_efficient(3 layers w/COBYLA) -> 0.80(0.79) ran for 362.92 -- 50 params\n",
      "zz_feature_map+hardware_efficient(4 layers w/COBYLA) -> 0.72(0.75) ran for 452.63 -- 65 params\n",
      "zz_feature_map+hardware_efficient(5 layers w/COBYLA) -> 0.77(0.75) ran for 553.22 -- 80 params\n",
      "zz_feature_map+hardware_efficient(6 layers w/COBYLA) -> 0.75(0.78) ran for 1776.73 -- 95 params\n",
      "zz_feature_map+quantum_convolutional(2 layers w/COBYLA) -> 0.52(0.55) ran for 311.98 -- 31 params\n",
      "zz_feature_map+quantum_convolutional(3 layers w/COBYLA) -> 0.51(0.54) ran for 694.16 -- 39 params\n",
      "zz_feature_map+quantum_convolutional(4 layers w/COBYLA) -> 0.50(0.54) ran for 2234.92 -- 47 params\n",
      "zz_feature_map+quantum_convolutional(5 layers w/COBYLA) -> 0.52(0.55) ran for 490.28 -- 55 params\n",
      "zz_feature_map+quantum_convolutional(6 layers w/COBYLA) -> 0.52(0.55) ran for 553.18 -- 63 params\n",
      "zz_feature_map+swap_ansatz(2 layers w/COBYLA) -> 0.72(0.70) ran for 339.55 -- 23 params\n",
      "zz_feature_map+swap_ansatz(3 layers w/COBYLA) -> 0.71(0.73) ran for 411.26 -- 27 params\n",
      "zz_feature_map+swap_ansatz(4 layers w/COBYLA) -> 0.75(0.76) ran for 5369.05 -- 31 params\n",
      "zz_feature_map+swap_ansatz(5 layers w/COBYLA) -> 0.65(0.73) ran for 538.10 -- 35 params\n",
      "zz_feature_map+swap_ansatz(6 layers w/COBYLA) -> 0.63(0.72) ran for 635.54 -- 39 params\n",
      "pauli_feature_map+real_amplitudes(2 layers w/COBYLA) -> 0.78(0.79) ran for 146.43 -- 15 params\n",
      "pauli_feature_map+real_amplitudes(3 layers w/COBYLA) -> 0.78(0.79) ran for 183.80 -- 20 params\n",
      "pauli_feature_map+real_amplitudes(4 layers w/COBYLA) -> 0.77(0.79) ran for 223.14 -- 25 params\n",
      "pauli_feature_map+real_amplitudes(5 layers w/COBYLA) -> 0.78(0.79) ran for 259.39 -- 30 params\n",
      "pauli_feature_map+real_amplitudes(6 layers w/COBYLA) -> 0.78(0.79) ran for 297.59 -- 35 params\n",
      "pauli_feature_map+eff_su2(2 layers w/COBYLA) -> 0.59(0.62) ran for 186.97 -- 15 params\n",
      "pauli_feature_map+eff_su2(3 layers w/COBYLA) -> 0.79(0.80) ran for 244.82 -- 20 params\n",
      "pauli_feature_map+eff_su2(4 layers w/COBYLA) -> 0.77(0.78) ran for 303.17 -- 25 params\n",
      "pauli_feature_map+eff_su2(5 layers w/COBYLA) -> 0.78(0.79) ran for 360.53 -- 30 params\n",
      "pauli_feature_map+eff_su2(6 layers w/COBYLA) -> 0.81(0.80) ran for 6288.03 -- 35 params\n",
      "pauli_feature_map+hardware_efficient(2 layers w/COBYLA) -> 0.73(0.69) ran for 1182.91 -- 35 params\n",
      "pauli_feature_map+hardware_efficient(3 layers w/COBYLA) -> 0.71(0.68) ran for 281.40 -- 50 params\n",
      "pauli_feature_map+hardware_efficient(4 layers w/COBYLA) -> 0.75(0.79) ran for 359.90 -- 65 params\n",
      "pauli_feature_map+hardware_efficient(5 layers w/COBYLA) -> 0.77(0.80) ran for 438.25 -- 80 params\n",
      "pauli_feature_map+hardware_efficient(6 layers w/COBYLA) -> 0.79(0.79) ran for 517.34 -- 95 params\n",
      "pauli_feature_map+quantum_convolutional(2 layers w/COBYLA) -> 0.70(0.67) ran for 236.60 -- 31 params\n",
      "pauli_feature_map+quantum_convolutional(3 layers w/COBYLA) -> 0.70(0.67) ran for 296.95 -- 39 params\n",
      "pauli_feature_map+quantum_convolutional(4 layers w/COBYLA) -> 0.70(0.67) ran for 358.16 -- 47 params\n",
      "pauli_feature_map+quantum_convolutional(5 layers w/COBYLA) -> 0.70(0.67) ran for 419.29 -- 55 params\n",
      "pauli_feature_map+quantum_convolutional(6 layers w/COBYLA) -> 0.70(0.67) ran for 480.82 -- 63 params\n",
      "pauli_feature_map+swap_ansatz(2 layers w/COBYLA) -> 0.78(0.79) ran for 2615.70 -- 23 params\n",
      "pauli_feature_map+swap_ansatz(3 layers w/COBYLA) -> 0.78(0.79) ran for 316.17 -- 27 params\n",
      "pauli_feature_map+swap_ansatz(4 layers w/COBYLA) -> 0.77(0.79) ran for 394.17 -- 31 params\n",
      "pauli_feature_map+swap_ansatz(5 layers w/COBYLA) -> 0.79(0.79) ran for 469.28 -- 35 params\n",
      "pauli_feature_map+swap_ansatz(6 layers w/COBYLA) -> 0.78(0.79) ran for 543.09 -- 39 params\n",
      "angle_encode_features+real_amplitudes(2 layers w/SPSA) -> 0.79(0.79) ran for 122.96 -- 15 params\n",
      "angle_encode_features+real_amplitudes(3 layers w/SPSA) -> 0.69(0.76) ran for 159.27 -- 20 params\n",
      "angle_encode_features+real_amplitudes(4 layers w/SPSA) -> 0.78(0.79) ran for 196.50 -- 25 params\n",
      "angle_encode_features+real_amplitudes(5 layers w/SPSA) -> 0.78(0.79) ran for 234.50 -- 30 params\n",
      "angle_encode_features+real_amplitudes(6 layers w/SPSA) -> 0.79(0.79) ran for 273.10 -- 35 params\n",
      "angle_encode_features+eff_su2(2 layers w/SPSA) -> 0.78(0.79) ran for 163.55 -- 15 params\n",
      "angle_encode_features+eff_su2(3 layers w/SPSA) -> 0.72(0.75) ran for 223.24 -- 20 params\n",
      "angle_encode_features+eff_su2(4 layers w/SPSA) -> 0.74(0.78) ran for 2182.71 -- 25 params\n",
      "angle_encode_features+eff_su2(5 layers w/SPSA) -> 0.77(0.79) ran for 6209.87 -- 30 params\n",
      "angle_encode_features+eff_su2(6 layers w/SPSA) -> 0.78(0.79) ran for 2107.35 -- 35 params\n",
      "angle_encode_features+hardware_efficient(2 layers w/SPSA) -> 0.73(0.69) ran for 181.33 -- 35 params\n",
      "angle_encode_features+hardware_efficient(3 layers w/SPSA) -> 0.70(0.66) ran for 257.04 -- 50 params\n",
      "angle_encode_features+hardware_efficient(4 layers w/SPSA) -> 0.73(0.69) ran for 337.55 -- 65 params\n",
      "angle_encode_features+hardware_efficient(5 layers w/SPSA) -> 0.75(0.75) ran for 421.31 -- 80 params\n",
      "angle_encode_features+hardware_efficient(6 layers w/SPSA) -> 0.75(0.74) ran for 493.34 -- 95 params\n",
      "angle_encode_features+quantum_convolutional(2 layers w/SPSA) -> 0.67(0.69) ran for 212.35 -- 31 params\n",
      "angle_encode_features+quantum_convolutional(3 layers w/SPSA) -> 0.74(0.75) ran for 273.45 -- 39 params\n",
      "angle_encode_features+quantum_convolutional(4 layers w/SPSA) -> 0.74(0.75) ran for 334.37 -- 47 params\n",
      "angle_encode_features+quantum_convolutional(5 layers w/SPSA) -> 0.74(0.75) ran for 392.24 -- 55 params\n",
      "angle_encode_features+quantum_convolutional(6 layers w/SPSA) -> 0.74(0.75) ran for 454.77 -- 63 params\n",
      "angle_encode_features+swap_ansatz(2 layers w/SPSA) -> 0.78(0.79) ran for 236.57 -- 23 params\n",
      "angle_encode_features+swap_ansatz(3 layers w/SPSA) -> 0.78(0.78) ran for 3533.59 -- 27 params\n",
      "angle_encode_features+swap_ansatz(4 layers w/SPSA) -> 0.72(0.76) ran for 564.62 -- 31 params\n",
      "angle_encode_features+swap_ansatz(5 layers w/SPSA) -> 0.78(0.79) ran for 460.25 -- 35 params\n",
      "angle_encode_features+swap_ansatz(6 layers w/SPSA) -> 0.76(0.76) ran for 534.48 -- 39 params\n",
      "z_feature_map+real_amplitudes(2 layers w/SPSA) -> 0.71(0.75) ran for 622.90 -- 15 params\n",
      "z_feature_map+real_amplitudes(3 layers w/SPSA) -> 0.78(0.79) ran for 527.08 -- 20 params\n",
      "z_feature_map+real_amplitudes(4 layers w/SPSA) -> 0.72(0.76) ran for 206.40 -- 25 params\n",
      "z_feature_map+real_amplitudes(5 layers w/SPSA) -> 0.78(0.79) ran for 244.81 -- 30 params\n",
      "z_feature_map+real_amplitudes(6 layers w/SPSA) -> 0.72(0.76) ran for 282.24 -- 35 params\n",
      "z_feature_map+eff_su2(2 layers w/SPSA) -> 0.68(0.66) ran for 170.06 -- 15 params\n",
      "z_feature_map+eff_su2(3 layers w/SPSA) -> 0.78(0.79) ran for 231.02 -- 20 params\n",
      "z_feature_map+eff_su2(4 layers w/SPSA) -> 0.72(0.76) ran for 291.53 -- 25 params\n",
      "z_feature_map+eff_su2(5 layers w/SPSA) -> 0.78(0.79) ran for 347.43 -- 30 params\n",
      "z_feature_map+eff_su2(6 layers w/SPSA) -> 0.75(0.78) ran for 405.46 -- 35 params\n",
      "z_feature_map+hardware_efficient(2 layers w/SPSA) -> 0.73(0.69) ran for 194.95 -- 35 params\n",
      "z_feature_map+hardware_efficient(3 layers w/SPSA) -> 0.73(0.70) ran for 272.37 -- 50 params\n",
      "z_feature_map+hardware_efficient(4 layers w/SPSA) -> 0.72(0.76) ran for 350.14 -- 65 params\n",
      "z_feature_map+hardware_efficient(5 layers w/SPSA) -> 0.72(0.76) ran for 429.35 -- 80 params\n",
      "z_feature_map+hardware_efficient(6 layers w/SPSA) -> 0.78(0.79) ran for 503.75 -- 95 params\n",
      "z_feature_map+quantum_convolutional(2 layers w/SPSA) -> 0.73(0.69) ran for 218.09 -- 31 params\n",
      "z_feature_map+quantum_convolutional(3 layers w/SPSA) -> 0.73(0.69) ran for 278.32 -- 39 params\n",
      "z_feature_map+quantum_convolutional(4 layers w/SPSA) -> 0.73(0.69) ran for 339.27 -- 47 params\n",
      "z_feature_map+quantum_convolutional(5 layers w/SPSA) -> 0.73(0.69) ran for 400.21 -- 55 params\n",
      "z_feature_map+quantum_convolutional(6 layers w/SPSA) -> 0.73(0.69) ran for 460.95 -- 63 params\n",
      "z_feature_map+swap_ansatz(2 layers w/SPSA) -> 0.65(0.61) ran for 244.57 -- 23 params\n",
      "z_feature_map+swap_ansatz(3 layers w/SPSA) -> 0.76(0.77) ran for 317.54 -- 27 params\n",
      "z_feature_map+swap_ansatz(4 layers w/SPSA) -> 0.78(0.78) ran for 391.49 -- 31 params\n",
      "z_feature_map+swap_ansatz(5 layers w/SPSA) -> 0.78(0.79) ran for 461.30 -- 35 params\n",
      "z_feature_map+swap_ansatz(6 layers w/SPSA) -> 0.78(0.78) ran for 1306.22 -- 39 params\n",
      "zz_feature_map+real_amplitudes(2 layers w/SPSA) -> 0.73(0.74) ran for 221.04 -- 15 params\n",
      "zz_feature_map+real_amplitudes(3 layers w/SPSA) -> 0.75(0.77) ran for 263.14 -- 20 params\n",
      "zz_feature_map+real_amplitudes(4 layers w/SPSA) -> 0.71(0.71) ran for 304.37 -- 25 params\n",
      "zz_feature_map+real_amplitudes(5 layers w/SPSA) -> 0.70(0.73) ran for 342.54 -- 30 params\n",
      "zz_feature_map+real_amplitudes(6 layers w/SPSA) -> 0.77(0.78) ran for 382.75 -- 35 params\n",
      "zz_feature_map+eff_su2(2 layers w/SPSA) -> 0.73(0.76) ran for 268.74 -- 15 params\n",
      "zz_feature_map+eff_su2(3 layers w/SPSA) -> 0.77(0.77) ran for 327.39 -- 20 params\n",
      "zz_feature_map+eff_su2(4 layers w/SPSA) -> 0.79(0.79) ran for 385.14 -- 25 params\n",
      "zz_feature_map+eff_su2(5 layers w/SPSA) -> 0.78(0.80) ran for 443.11 -- 30 params\n",
      "zz_feature_map+eff_su2(6 layers w/SPSA) -> 0.75(0.79) ran for 499.28 -- 35 params\n",
      "zz_feature_map+hardware_efficient(2 layers w/SPSA) -> 0.55(0.58) ran for 292.60 -- 35 params\n",
      "zz_feature_map+hardware_efficient(3 layers w/SPSA) -> 0.64(0.68) ran for 369.52 -- 50 params\n",
      "zz_feature_map+hardware_efficient(4 layers w/SPSA) -> 0.79(0.77) ran for 449.35 -- 65 params\n",
      "zz_feature_map+hardware_efficient(5 layers w/SPSA) -> 0.74(0.77) ran for 9958.06 -- 80 params\n",
      "zz_feature_map+hardware_efficient(6 layers w/SPSA) -> 0.75(0.78) ran for 1480.17 -- 95 params\n",
      "zz_feature_map+quantum_convolutional(2 layers w/SPSA) -> 0.49(0.50) ran for 1202.39 -- 31 params\n",
      "zz_feature_map+quantum_convolutional(3 layers w/SPSA) -> 0.52(0.55) ran for 1421.79 -- 39 params\n",
      "zz_feature_map+quantum_convolutional(4 layers w/SPSA) -> 0.52(0.55) ran for 417.72 -- 47 params\n",
      "zz_feature_map+quantum_convolutional(5 layers w/SPSA) -> 0.51(0.55) ran for 485.70 -- 55 params\n",
      "zz_feature_map+quantum_convolutional(6 layers w/SPSA) -> 0.52(0.54) ran for 550.85 -- 63 params\n",
      "zz_feature_map+swap_ansatz(2 layers w/SPSA) -> 0.74(0.73) ran for 333.86 -- 23 params\n",
      "zz_feature_map+swap_ansatz(3 layers w/SPSA) -> 0.68(0.68) ran for 406.96 -- 27 params\n",
      "zz_feature_map+swap_ansatz(4 layers w/SPSA) -> 0.72(0.76) ran for 479.96 -- 31 params\n",
      "zz_feature_map+swap_ansatz(5 layers w/SPSA) -> 0.69(0.73) ran for 1207.18 -- 35 params\n",
      "zz_feature_map+swap_ansatz(6 layers w/SPSA) -> 0.75(0.77) ran for 1928.90 -- 39 params\n",
      "pauli_feature_map+real_amplitudes(2 layers w/SPSA) -> 0.78(0.79) ran for 641.04 -- 15 params\n",
      "pauli_feature_map+real_amplitudes(3 layers w/SPSA) -> 0.79(0.79) ran for 188.34 -- 20 params\n",
      "pauli_feature_map+real_amplitudes(4 layers w/SPSA) -> 0.78(0.79) ran for 227.02 -- 25 params\n",
      "pauli_feature_map+real_amplitudes(5 layers w/SPSA) -> 0.78(0.79) ran for 266.17 -- 30 params\n",
      "pauli_feature_map+real_amplitudes(6 layers w/SPSA) -> 0.78(0.79) ran for 302.67 -- 35 params\n",
      "pauli_feature_map+eff_su2(2 layers w/SPSA) -> 0.70(0.67) ran for 190.92 -- 15 params\n",
      "pauli_feature_map+eff_su2(3 layers w/SPSA) -> 0.75(0.75) ran for 248.10 -- 20 params\n",
      "pauli_feature_map+eff_su2(4 layers w/SPSA) -> 0.76(0.78) ran for 830.00 -- 25 params\n",
      "pauli_feature_map+eff_su2(5 layers w/SPSA) -> 0.77(0.78) ran for 366.98 -- 30 params\n",
      "pauli_feature_map+eff_su2(6 layers w/SPSA) -> 0.74(0.78) ran for 423.70 -- 35 params\n",
      "pauli_feature_map+hardware_efficient(2 layers w/SPSA) -> 0.73(0.69) ran for 216.09 -- 35 params\n",
      "pauli_feature_map+hardware_efficient(3 layers w/SPSA) -> 0.73(0.69) ran for 1225.48 -- 50 params\n",
      "pauli_feature_map+hardware_efficient(4 layers w/SPSA) -> 0.77(0.75) ran for 364.86 -- 65 params\n",
      "pauli_feature_map+hardware_efficient(5 layers w/SPSA) -> 0.77(0.80) ran for 445.43 -- 80 params\n",
      "pauli_feature_map+hardware_efficient(6 layers w/SPSA) -> 0.76(0.76) ran for 525.79 -- 95 params\n",
      "pauli_feature_map+quantum_convolutional(2 layers w/SPSA) -> 0.70(0.67) ran for 239.01 -- 31 params\n",
      "pauli_feature_map+quantum_convolutional(3 layers w/SPSA) -> 0.70(0.67) ran for 299.39 -- 39 params\n",
      "pauli_feature_map+quantum_convolutional(4 layers w/SPSA) -> 0.70(0.67) ran for 360.27 -- 47 params\n",
      "pauli_feature_map+quantum_convolutional(5 layers w/SPSA) -> 0.70(0.67) ran for 5049.94 -- 55 params\n",
      "pauli_feature_map+quantum_convolutional(6 layers w/SPSA) -> 0.70(0.67) ran for 4370.78 -- 63 params\n",
      "pauli_feature_map+swap_ansatz(2 layers w/SPSA) -> 0.78(0.79) ran for 249.93 -- 23 params\n",
      "pauli_feature_map+swap_ansatz(3 layers w/SPSA) -> 0.78(0.79) ran for 324.81 -- 27 params\n",
      "pauli_feature_map+swap_ansatz(4 layers w/SPSA) -> 0.75(0.78) ran for 397.16 -- 31 params\n",
      "pauli_feature_map+swap_ansatz(5 layers w/SPSA) -> 0.78(0.79) ran for 470.74 -- 35 params\n",
      "pauli_feature_map+swap_ansatz(6 layers w/SPSA) -> 0.78(0.79) ran for 543.81 -- 39 params\n"
     ]
    },
    {
     "data": {
      "text/html": [
       "<div>\n",
       "<style scoped>\n",
       "    .dataframe tbody tr th:only-of-type {\n",
       "        vertical-align: middle;\n",
       "    }\n",
       "\n",
       "    .dataframe tbody tr th {\n",
       "        vertical-align: top;\n",
       "    }\n",
       "\n",
       "    .dataframe thead th {\n",
       "        text-align: right;\n",
       "    }\n",
       "</style>\n",
       "<table border=\"1\" class=\"dataframe\">\n",
       "  <thead>\n",
       "    <tr style=\"text-align: right;\">\n",
       "      <th></th>\n",
       "      <th>Feature Map</th>\n",
       "      <th>Ansatz</th>\n",
       "      <th>Layers</th>\n",
       "      <th>Optimiser</th>\n",
       "      <th>Train Acc</th>\n",
       "      <th>Test Acc</th>\n",
       "      <th>Runtime</th>\n",
       "      <th>Params</th>\n",
       "    </tr>\n",
       "  </thead>\n",
       "  <tbody>\n",
       "    <tr>\n",
       "      <th>0</th>\n",
       "      <td>angle_encode_features</td>\n",
       "      <td>real_amplitudes</td>\n",
       "      <td>2</td>\n",
       "      <td>COBYLA</td>\n",
       "      <td>0.785112</td>\n",
       "      <td>0.776536</td>\n",
       "      <td>120.744590</td>\n",
       "      <td>15</td>\n",
       "    </tr>\n",
       "    <tr>\n",
       "      <th>1</th>\n",
       "      <td>angle_encode_features</td>\n",
       "      <td>real_amplitudes</td>\n",
       "      <td>3</td>\n",
       "      <td>COBYLA</td>\n",
       "      <td>0.794944</td>\n",
       "      <td>0.782123</td>\n",
       "      <td>159.986970</td>\n",
       "      <td>20</td>\n",
       "    </tr>\n",
       "    <tr>\n",
       "      <th>2</th>\n",
       "      <td>angle_encode_features</td>\n",
       "      <td>real_amplitudes</td>\n",
       "      <td>4</td>\n",
       "      <td>COBYLA</td>\n",
       "      <td>0.787921</td>\n",
       "      <td>0.782123</td>\n",
       "      <td>198.577053</td>\n",
       "      <td>25</td>\n",
       "    </tr>\n",
       "    <tr>\n",
       "      <th>3</th>\n",
       "      <td>angle_encode_features</td>\n",
       "      <td>real_amplitudes</td>\n",
       "      <td>5</td>\n",
       "      <td>COBYLA</td>\n",
       "      <td>0.780899</td>\n",
       "      <td>0.776536</td>\n",
       "      <td>238.473340</td>\n",
       "      <td>30</td>\n",
       "    </tr>\n",
       "    <tr>\n",
       "      <th>4</th>\n",
       "      <td>angle_encode_features</td>\n",
       "      <td>real_amplitudes</td>\n",
       "      <td>6</td>\n",
       "      <td>COBYLA</td>\n",
       "      <td>0.785112</td>\n",
       "      <td>0.759777</td>\n",
       "      <td>277.811899</td>\n",
       "      <td>35</td>\n",
       "    </tr>\n",
       "    <tr>\n",
       "      <th>...</th>\n",
       "      <td>...</td>\n",
       "      <td>...</td>\n",
       "      <td>...</td>\n",
       "      <td>...</td>\n",
       "      <td>...</td>\n",
       "      <td>...</td>\n",
       "      <td>...</td>\n",
       "      <td>...</td>\n",
       "    </tr>\n",
       "    <tr>\n",
       "      <th>195</th>\n",
       "      <td>pauli_feature_map</td>\n",
       "      <td>swap_ansatz</td>\n",
       "      <td>2</td>\n",
       "      <td>SPSA</td>\n",
       "      <td>0.787921</td>\n",
       "      <td>0.782123</td>\n",
       "      <td>249.932711</td>\n",
       "      <td>23</td>\n",
       "    </tr>\n",
       "    <tr>\n",
       "      <th>196</th>\n",
       "      <td>pauli_feature_map</td>\n",
       "      <td>swap_ansatz</td>\n",
       "      <td>3</td>\n",
       "      <td>SPSA</td>\n",
       "      <td>0.787921</td>\n",
       "      <td>0.782123</td>\n",
       "      <td>324.811719</td>\n",
       "      <td>27</td>\n",
       "    </tr>\n",
       "    <tr>\n",
       "      <th>197</th>\n",
       "      <td>pauli_feature_map</td>\n",
       "      <td>swap_ansatz</td>\n",
       "      <td>4</td>\n",
       "      <td>SPSA</td>\n",
       "      <td>0.778090</td>\n",
       "      <td>0.748603</td>\n",
       "      <td>397.164836</td>\n",
       "      <td>31</td>\n",
       "    </tr>\n",
       "    <tr>\n",
       "      <th>198</th>\n",
       "      <td>pauli_feature_map</td>\n",
       "      <td>swap_ansatz</td>\n",
       "      <td>5</td>\n",
       "      <td>SPSA</td>\n",
       "      <td>0.789326</td>\n",
       "      <td>0.782123</td>\n",
       "      <td>470.739856</td>\n",
       "      <td>35</td>\n",
       "    </tr>\n",
       "    <tr>\n",
       "      <th>199</th>\n",
       "      <td>pauli_feature_map</td>\n",
       "      <td>swap_ansatz</td>\n",
       "      <td>6</td>\n",
       "      <td>SPSA</td>\n",
       "      <td>0.786517</td>\n",
       "      <td>0.782123</td>\n",
       "      <td>543.811069</td>\n",
       "      <td>39</td>\n",
       "    </tr>\n",
       "  </tbody>\n",
       "</table>\n",
       "<p>200 rows × 8 columns</p>\n",
       "</div>"
      ],
      "text/plain": [
       "               Feature Map           Ansatz  Layers Optimiser  Train Acc  \\\n",
       "0    angle_encode_features  real_amplitudes       2    COBYLA   0.785112   \n",
       "1    angle_encode_features  real_amplitudes       3    COBYLA   0.794944   \n",
       "2    angle_encode_features  real_amplitudes       4    COBYLA   0.787921   \n",
       "3    angle_encode_features  real_amplitudes       5    COBYLA   0.780899   \n",
       "4    angle_encode_features  real_amplitudes       6    COBYLA   0.785112   \n",
       "..                     ...              ...     ...       ...        ...   \n",
       "195      pauli_feature_map      swap_ansatz       2      SPSA   0.787921   \n",
       "196      pauli_feature_map      swap_ansatz       3      SPSA   0.787921   \n",
       "197      pauli_feature_map      swap_ansatz       4      SPSA   0.778090   \n",
       "198      pauli_feature_map      swap_ansatz       5      SPSA   0.789326   \n",
       "199      pauli_feature_map      swap_ansatz       6      SPSA   0.786517   \n",
       "\n",
       "     Test Acc     Runtime  Params  \n",
       "0    0.776536  120.744590      15  \n",
       "1    0.782123  159.986970      20  \n",
       "2    0.782123  198.577053      25  \n",
       "3    0.776536  238.473340      30  \n",
       "4    0.759777  277.811899      35  \n",
       "..        ...         ...     ...  \n",
       "195  0.782123  249.932711      23  \n",
       "196  0.782123  324.811719      27  \n",
       "197  0.748603  397.164836      31  \n",
       "198  0.782123  470.739856      35  \n",
       "199  0.782123  543.811069      39  \n",
       "\n",
       "[200 rows x 8 columns]"
      ]
     },
     "execution_count": 64,
     "metadata": {},
     "output_type": "execute_result"
    }
   ],
   "source": [
    "search_results = []\n",
    "\n",
    "feature_map_list=[angle_encode_features,z_feature_map,zz_feature_map,pauli_feature_map]\n",
    "ansatz_list=[real_amplitudes, eff_su2, hardware_efficient, quantum_convolutional, swap_ansatz]\n",
    "optimizer_list=[COBYLA, SPSA]\n",
    "\n",
    "n_iter = 100\n",
    "layers_ansatz = [2, 3, 4, 5, 6]\n",
    "\n",
    "for optim in optimizer_list:\n",
    "    for f_map in feature_map_list:\n",
    "        for ansatz in ansatz_list:\n",
    "            for l in layers_ansatz:\n",
    "                train_acc, test_acc, r, p = trainQNN(f_map(5, 5), ansatz(5, l), optim(maxiter=n_iter), X_train_q, X_test_q, False)\n",
    "                print(f\"{f_map.__name__}+{ansatz.__name__}({l} layers w/{optim.__name__}) -> {test_acc:.2f}({train_acc:.2f}) ran for {r:.2f} -- {p} params\")\n",
    "                search_results.append({\n",
    "                    \"Feature Map\": f_map.__name__,\n",
    "                    \"Ansatz\": ansatz.__name__,\n",
    "                    \"Layers\": l,\n",
    "                    \"Optimiser\": optim.__name__,\n",
    "                    \"Train Acc\": train_acc,\n",
    "                    \"Test Acc\": test_acc,\n",
    "                    \"Runtime\": r,\n",
    "                    \"Params\": p,\n",
    "                })\n",
    "\n",
    "search_results_df = pd.DataFrame(search_results)\n",
    "search_results_df"
   ]
  },
  {
   "cell_type": "code",
   "execution_count": 80,
   "id": "2ed4dcb9-d493-4f3c-b7a1-3ebd4c0c216d",
   "metadata": {},
   "outputs": [
    {
     "data": {
      "image/png": "[encoded data removed]",
      "text/plain": [
       "<Figure size 1200x600 with 1 Axes>"
      ]
     },
     "metadata": {},
     "output_type": "display_data"
    },
    {
     "name": "stdout",
     "output_type": "stream",
     "text": [
      "Quantum VQC on the training dataset: 0.80\n",
      "Quantum VQC on the test dataset:     0.79\n",
      "Runtime:                             756.86\n"
     ]
    }
   ],
   "source": [
    "objective_func_vals = []\n",
    "        \n",
    "vqc_1 = VQC(\n",
    "    sampler=sampler,\n",
    "    feature_map=angle_encode_features(5, 5),\n",
    "    ansatz=swap_ansatz(5, 5),\n",
    "    optimizer=COBYLA(maxiter=400),\n",
    "    callback=callback_graph,\n",
    ")\n",
    "\n",
    "start = time.time()\n",
    "vqc_1.fit(X_train_q, Y_train.array)\n",
    "elapsed = time.time() - start\n",
    "\n",
    "train_score_q1 = vqc_1.score(X_train_q, Y_train)\n",
    "test_score_q1 = vqc_1.score(X_test_q, Y_test)\n",
    "\n",
    "print(f\"Quantum VQC on the training dataset: {train_score_q1:.2f}\")\n",
    "print(f\"Quantum VQC on the test dataset:     {test_score_q1:.2f}\")\n",
    "print(f\"Runtime:                             {elapsed:.2f}\")"
   ]
  },
  {
   "cell_type": "code",
   "execution_count": 81,
   "id": "246fa095-9c75-4dbb-8515-26db9838e012",
   "metadata": {},
   "outputs": [
    {
     "data": {
      "image/png": "[encoded data removed]",
      "text/plain": [
       "<Figure size 1200x600 with 1 Axes>"
      ]
     },
     "metadata": {},
     "output_type": "display_data"
    },
    {
     "name": "stdout",
     "output_type": "stream",
     "text": [
      "Quantum VQC on the training dataset: 0.80\n",
      "Quantum VQC on the test dataset:     0.81\n",
      "Runtime:                             617.68\n"
     ]
    }
   ],
   "source": [
    "objective_func_vals = []\n",
    "        \n",
    "vqc_2 = VQC(\n",
    "    sampler=sampler,\n",
    "    feature_map=zz_feature_map(5, 5),\n",
    "    ansatz=hardware_efficient(5, 3),\n",
    "    optimizer=COBYLA(maxiter=400),\n",
    "    callback=callback_graph,\n",
    ")\n",
    "\n",
    "start = time.time()\n",
    "vqc_2.fit(X_train_q, Y_train.array)\n",
    "elapsed = time.time() - start\n",
    "\n",
    "train_score_q2 = vqc_2.score(X_train_q, Y_train)\n",
    "test_score_q2 = vqc_2.score(X_test_q, Y_test)\n",
    "\n",
    "print(f\"Quantum VQC on the training dataset: {train_score_q2:.2f}\")\n",
    "print(f\"Quantum VQC on the test dataset:     {test_score_q2:.2f}\")\n",
    "print(f\"Runtime:                             {elapsed:.2f}\")"
   ]
  },
  {
   "cell_type": "code",
   "execution_count": 85,
   "id": "5ea04bdf-9dd3-468f-bde2-28faef1ad4ad",
   "metadata": {},
   "outputs": [
    {
     "name": "stdout",
     "output_type": "stream",
     "text": [
      "Quantum VQC on the training dataset: 0.75\n",
      "Quantum VQC on the test dataset:     0.74\n",
      "Runtime:                             1856.59\n"
     ]
    }
   ],
   "source": [
    "objective_func_vals = []\n",
    "        \n",
    "vqc_3 = VQC(\n",
    "    sampler=sampler,\n",
    "    feature_map=angle_encode_features(5, 5),\n",
    "    ansatz=quantum_convolutional(5, 3),\n",
    "    optimizer=SPSA(maxiter=400),\n",
    "    callback=callback_graph,\n",
    ")\n",
    "\n",
    "start = time.time()\n",
    "vqc_3.fit(X_train_q, Y_train.array)\n",
    "elapsed = time.time() - start\n",
    "\n",
    "train_score_q3 = vqc_3.score(X_train_q, Y_train)\n",
    "test_score_q3 = vqc_3.score(X_test_q, Y_test)\n",
    "\n",
    "print(f\"Quantum VQC on the training dataset: {train_score_q3:.2f}\")\n",
    "print(f\"Quantum VQC on the test dataset:     {test_score_q3:.2f}\")\n",
    "print(f\"Runtime:                             {elapsed:.2f}\")"
   ]
  },
  {
   "cell_type": "markdown",
   "id": "1dcf0db6-f0df-4adf-9c2a-9ec5a0b73451",
   "metadata": {},
   "source": [
    "# Concluding Remarks, Further Work, and Final Considerations\n",
    "\n",
    "- We more or less equaled the performance observed in https://arxiv.org/pdf/2509.00916 in the 80-82% region.\n",
    "- We can improve on our performance by looking more at the data encoding strategy, and using other trick e.g. factor analysis, scaling by $\\pi$ instead etc.\n",
    "- We could explore other feature maps, ansätze and optimisers\n",
    "- We could explore things like data-reuploading\n",
    "\n",
    "However, as a start into the domain of QML, we hope this allows you to get started and explore this space. If you find a mistake in this notebook or want to extend it somehow, please do get in touch.\n",
    "\n",
    "## Extensions\n",
    "1. A natural extension would be to consider noise, as we've explored only \"perfect\" computations. This is not realistic. However, because training on a real device is (prohibitively) expensive, the best we can do is use calibrated noise models of the real machines. Qiskit defines these as \"fake\" backends, and there is (usually) one of these available per real IBM device.\n",
    "2. Qiskit, while great for getting started is quite cumbersome (and constantly changing!) -- this is the sixth time this tutorial has been written in 3 years. A natural progression from Qiskit, would be to apply the learnings to PennyLane: https://pennylane.ai\n",
    "3. More datasets...\n",
    "4. An emerging trend in the QML literature is the use of hybrid models, where a pretrained model is combined with a QNN. Start reading for this area would be: http://arxiv.org/abs/1912.08278 -- it's a very interesting area of current research"
   ]
  }
 ],
 "metadata": {
  "kernelspec": {
   "display_name": "Python 3 (ipykernel)",
   "language": "python",
   "name": "python3"
  },
  "language_info": {
   "codemirror_mode": {
    "name": "ipython",
    "version": 3
   },
   "file_extension": ".py",
   "mimetype": "text/x-python",
   "name": "python",
   "nbconvert_exporter": "python",
   "pygments_lexer": "ipython3",
   "version": "3.9.6"
  }
 },
 "nbformat": 4,
 "nbformat_minor": 5
}
